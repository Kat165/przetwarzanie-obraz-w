{
  "cells": [
    {
      "cell_type": "markdown",
      "metadata": {
        "pycharm": {
          "name": "#%% md\n"
        },
        "id": "GyJVpdDDcDvQ"
      },
      "source": [
        "# Histogram obrazu. Wyrównywanie histogramu."
      ]
    },
    {
      "cell_type": "markdown",
      "source": [
        "## Cel ćwiczenia\n",
        "\n",
        "- Zapoznanie z pojęciem histogramu obrazu (w odcieniach szarości i kolorze).\n",
        "- Zapoznanie z metodami modyfikacji histogramu (rozciąganie, wyrównywanie, dopasowywanie)."
      ],
      "metadata": {
        "collapsed": false,
        "pycharm": {
          "name": "#%% md\n"
        },
        "id": "NLeSSymzcDvS"
      }
    },
    {
      "cell_type": "markdown",
      "source": [
        "## Histogram\n",
        "\n",
        "- Histogramem obrazu nazywamy wykres słupkowy zdefiniowany następującymi zależnościami:<br>\n",
        "\\begin{equation}\n",
        "h(i) = \\sum_{x=0}^{N-1} \\sum_{y=0}^{M-1} p(i,(x,y))\n",
        "\\end{equation}<br>\n",
        "gdzie:<br>\n",
        "\\begin{equation}\n",
        "p(i) =  \\left\\{\n",
        "  \\begin{array}{l l}\n",
        "    1 & \\quad \\text{gdy} f(x,y) = i\\\\\n",
        "    0 & \\quad \\text{gdy} f(x,y) \\ne i\n",
        "  \\end{array} \\right.\n",
        "\\end{equation}\n",
        "\n",
        "- Inaczej mówiąc, histogram zawiera informacje na temat tego ile pikseli o danym poziomie jasności występuje na obrazie (w przypadku obrazu w odcieniach szarości). Określa się to także rozkładem empirycznym cechy.\n",
        "\n",
        "- Często wykorzystuje się tzw. znormalizowaną postać histogramu  – wszystkie wartości $h(i)$ są dzielone przez liczbę pikseli na obrazie.\n",
        "Otrzymana w ten sposób wielkość to gęstość prawdopodobieństwa wystąpienia na obrazie pikseli o odcieniu $i$.\n",
        "\n",
        "- Histogram można zdefiniować również dla obrazów kolorowych.\n",
        "Otrzymujemy wtedy 3 histogramy – po jednym dla danej składowej: R,G,B (lub HSV, YCbCr, itp.) lub histogram trójwymiarowy.\n",
        "\n",
        "- Histogram jest bardzo użyteczny w przetwarzaniu i analizie obrazów.\n",
        "Wykorzystywany jest przy binaryzacji (szerzej na jednym z kolejnych laboratoriów) oraz do oceny jakości (dynamiki, kontrastu) obrazu.\n",
        "W idealnym przypadku wszystkie poziomy jasności w obrazie powinny być wykorzystane (i to najlepiej w miarę jednolicie)  – obrazowo mówiąc histogram powinien rozciągać się od 0  – 255 (obraz w skali szarości).\n",
        "\n",
        "- W przypadku gdy  wykorzystujemy jedynie fragment dostępnego zakresu (wąski histogram)  lub histogram nie jest jednolity (występują dominujące grupy pikseli) obraz ma dość słaby kontrast.\n",
        "Cechę tę można poprawić stosując tzw. rozciąganie albo wyrównywanie histogramu (ang. *histogram equalization*).</div>"
      ],
      "metadata": {
        "collapsed": false,
        "pycharm": {
          "name": "#%% md\n"
        },
        "id": "-vb7gT4WcDvT"
      }
    },
    {
      "cell_type": "markdown",
      "source": [
        "## Histogram dla obrazów w odcieniach szarości\n",
        "\n",
        "1. Zaimportuj potrzebne biblioteki: *OpenCV*, *pyplot* z *matplotlib* i *numpy*.\n",
        "        import cv2\n",
        "        from matplotlib import pyplot as plt\n",
        "        import numpy as np\n",
        "2. Wczytaj obrazy *lenaX.bmp* w skali szarości. *X* jest numerem wczytywanego obrazu (1 - 4).\n",
        "        I = cv2.imread('lenaX.bmp', cv2.IMREAD_GRAYSCALE)\n",
        "3. Oblicz histogram wczytanego obrazu wykorzystując funkcję `cv2.calcHist`.\n",
        "    - Pierwszym argumentem jest obraz, dla którego obliczony zostanie histogram.\n",
        "    Należy go przekazać w nawiasie kwadratowym.\n",
        "    - Drugim argumentem jest numer kanału, dla którego ma zostać obliczony histogram.\n",
        "    Również powinien być przekazany w nawiasie kwadratowym.\n",
        "    - Trzeci argument oznacza maskę, czyli obszar, dla którego ma zostać wyznaczony histogram.\n",
        "    Aby obliczyć dla całego obrazu należy przekazać *None*.\n",
        "    - Czwartym argumentem jest rozmiar histogramu (liczba przedziałów).\n",
        "    Argument powinien być w nawiasie kwadratowym. Dla pełnej skali należy przekazać wartość *256*.\n",
        "    - Ostatnim argumentem jest zakres wartości. Dla obrazów typu *uint8* powinien on wynosić *[0, 256]*.\n",
        "    - Funkcja zwraca obliczony histogram.\n",
        "4. Wyświetl wczytane obrazy i ich histogramy w jednym oknie. Użyj `plt.subplot()` w celu stworzenia siatki wykresów.\n",
        "        figLena, axsLena = plt.subplots(2, 4)\n",
        "Rozmiar utworzonego okna można zmienić wykorzystując instrukcję (uwaga w calach -  1 cal to 2.54cm):\n",
        "        figLena.set_size_inches(20, 10)\n",
        "Przykładowe wyświetlenie obrazu:\n",
        "        axsLena[0, 0].imshow(I1, 'gray', vmin=0, vmax=256)\n",
        "        axsLena[0, 0].axis('off')\n",
        "Przykładowe wyświetlenie histogramu:\n",
        "        axsLena[1, 0].plot(H1)\n",
        "        axsLena[1, 0].grid()\n",
        "5. Przeanalizuj (dokładnie) związek histogramu z jasnością i ostrością obrazu (tu rozumianą jako subiektywne odczucie)."
      ],
      "metadata": {
        "collapsed": false,
        "pycharm": {
          "name": "#%% md\n"
        },
        "id": "lFY1GGOecDvU"
      }
    },
    {
      "cell_type": "code",
      "execution_count": null,
      "metadata": {
        "pycharm": {
          "name": "#%% Zadanie 1 - wyświetlanie\n"
        },
        "id": "KweWeS_UcDvV"
      },
      "outputs": [],
      "source": [
        "import cv2\n",
        "import os\n",
        "import requests\n",
        "from matplotlib import pyplot as plt\n",
        "import numpy as np\n",
        "\n",
        "url = 'https://raw.githubusercontent.com/vision-agh/poc_sw/master/03_Histogram/'\n",
        "\n",
        "fileName = 'lena1.bmp'\n",
        "if not os.path.exists(fileName) :\n",
        "    r = requests.get(url + fileName, allow_redirects=True)\n",
        "    open(fileName, 'wb').write(r.content)\n",
        "\n",
        "fileName = 'lena2.bmp'\n",
        "if not os.path.exists(fileName) :\n",
        "    r = requests.get(url + fileName, allow_redirects=True)\n",
        "    open(fileName, 'wb').write(r.content)\n",
        "\n",
        "fileName = 'lena3.bmp'\n",
        "if not os.path.exists(fileName) :\n",
        "    r = requests.get(url + fileName, allow_redirects=True)\n",
        "    open(fileName, 'wb').write(r.content)\n",
        "\n",
        "fileName = 'lena4.bmp'\n",
        "if not os.path.exists(fileName) :\n",
        "    r = requests.get(url + fileName, allow_redirects=True)\n",
        "    open(fileName, 'wb').write(r.content)"
      ]
    },
    {
      "cell_type": "code",
      "source": [
        "L1 = cv2.imread('lena1.bmp', cv2.IMREAD_GRAYSCALE)\n",
        "L2 = cv2.imread('lena2.bmp', cv2.IMREAD_GRAYSCALE)\n",
        "L3 = cv2.imread('lena3.bmp', cv2.IMREAD_GRAYSCALE)\n",
        "L4 = cv2.imread('lena4.bmp', cv2.IMREAD_GRAYSCALE)"
      ],
      "metadata": {
        "id": "vjqNApyAAc4R"
      },
      "execution_count": null,
      "outputs": []
    },
    {
      "cell_type": "code",
      "source": [
        "hist1 = cv2.calcHist([L1],[0],None,[256],[0, 256])\n",
        "hist2 = cv2.calcHist([L2],[0],None,[256],[0, 256])\n",
        "hist3 = cv2.calcHist([L3],[0],None,[256],[0, 256])\n",
        "hist4 = cv2.calcHist([L4],[0],None,[256],[0, 256])"
      ],
      "metadata": {
        "id": "3QSiyVEU_1Zg"
      },
      "execution_count": null,
      "outputs": []
    },
    {
      "cell_type": "code",
      "source": [
        "figLena, axsLena = plt.subplots(2, 4)\n",
        "figLena.set_size_inches(20, 10)\n",
        "axsLena[0, 0].imshow(L1, 'gray', vmin=0, vmax=256)\n",
        "axsLena[0, 0].axis('off')\n",
        "axsLena[0, 1].imshow(L2, 'gray', vmin=0, vmax=256)\n",
        "axsLena[0, 1].axis('off')\n",
        "axsLena[0, 2].imshow(L3, 'gray', vmin=0, vmax=256)\n",
        "axsLena[0, 2].axis('off')\n",
        "axsLena[0, 3].imshow(L4, 'gray', vmin=0, vmax=256)\n",
        "axsLena[0, 3].axis('off')\n",
        "axsLena[1, 0].plot(hist1)\n",
        "axsLena[1, 0].grid()\n",
        "axsLena[1, 1].plot(hist2)\n",
        "axsLena[1, 1].grid()\n",
        "axsLena[1, 2].plot(hist3)\n",
        "axsLena[1, 2].grid()\n",
        "axsLena[1, 3].plot(hist4)\n",
        "axsLena[1, 3].grid()\n",
        "plt.show()"
      ],
      "metadata": {
        "id": "ALfrn3cFBJ-z"
      },
      "execution_count": null,
      "outputs": []
    },
    {
      "cell_type": "markdown",
      "source": [
        "## Rozciąganie histogramu\n",
        "\n",
        "Najprostszą metodą poprawienia jakości obrazu jest tzw. rozciągnięcie histogramu.\n",
        "Polega na przeskalowaniu wartości pikseli w obrazie tak, aby wykorzystać cały dostępny zakres [0-255] (oczywiście w przypadku obrazów w odcieniach szarości w reprezentacji 8-bitowej).\n",
        "\n",
        "1. Wczytaj obraz *hist1.bmp* w skali szarości.\n",
        "Oblicz i wyświetl histogram rozpatrywanego obrazu (na wspólnym rysunku z obrazem).\n",
        "Zwróć uwagę na ilość widocznych szczegółów.\n",
        "2. Rozciągnij histogram obrazu. W tym celu można wykorzystać funkcję `cv2.normalize`.\n",
        "    - Pierwszym argumentem funkcji jest obraz poddawany operacji.\n",
        "    - Drugim argumentem jest tablica do której zostanie wpisany wynik.\n",
        "    Należy ją najpierw zainicjalizować.\n",
        "    Najlepiej zrobić to funkcją `np.zeros`, której pierwszym argumentem jest rozmiar obrazu (`I.shape`), a drugim typ danych (`uint8`).\n",
        "    Można również przekazać `None`, a wynik przypisać do nowej zmiennej.\n",
        "    - Trzecim argumentem jest minimalna wartość po normalizacji.\n",
        "    - Czwartym argumentem jest wartość maksymalna po normalizacji.\n",
        "    - Ostatnim argumentem jest typ wykorzystanej normy (uogólnienie pojęcia długości wektora).\n",
        "    Należy wykorzystać normę `cv2.NORM_MINMAX`.\n",
        "3. Wyświetl obraz oryginalny, po wykonanej operacji oraz ich histogramy.\n",
        "4. Czy ilość \"widocznych\" szczegółów uległa zmianie?"
      ],
      "metadata": {
        "collapsed": false,
        "pycharm": {
          "name": "#%% md\n"
        },
        "id": "yvrZfMJZcDvV"
      }
    },
    {
      "cell_type": "code",
      "execution_count": null,
      "outputs": [],
      "source": [
        "fileName = 'hist1.bmp'\n",
        "if not os.path.exists(fileName) :\n",
        "    r = requests.get(url + fileName, allow_redirects=True)\n",
        "    open(fileName, 'wb').write(r.content)\n",
        "\n",
        "fileName = 'hist2.bmp'\n",
        "if not os.path.exists(fileName) :\n",
        "    r = requests.get(url + fileName, allow_redirects=True)\n",
        "    open(fileName, 'wb').write(r.content)\n",
        "\n",
        "fileName = 'hist3.bmp'\n",
        "if not os.path.exists(fileName) :\n",
        "    r = requests.get(url + fileName, allow_redirects=True)\n",
        "    open(fileName, 'wb').write(r.content)\n",
        "\n",
        "fileName = 'hist4.bmp'\n",
        "if not os.path.exists(fileName) :\n",
        "    r = requests.get(url + fileName, allow_redirects=True)\n",
        "    open(fileName, 'wb').write(r.content)"
      ],
      "metadata": {
        "pycharm": {
          "name": "#%% Zadanie 2 - rozciąganie\n"
        },
        "id": "9dmix38-cDvW"
      }
    },
    {
      "cell_type": "code",
      "source": [
        "H1 = cv2.imread('hist1.bmp', cv2.IMREAD_GRAYSCALE)\n",
        "Hhist1 = cv2.calcHist([H1],[0],None,[256],[0, 256])\n",
        "H2 = cv2.imread('hist2.bmp', cv2.IMREAD_GRAYSCALE)\n",
        "Hhist2 = cv2.calcHist([H2],[0],None,[256],[0, 256])\n",
        "H3 = cv2.imread('hist3.bmp', cv2.IMREAD_GRAYSCALE)\n",
        "Hhist3 = cv2.calcHist([H3],[0],None,[256],[0, 256])\n",
        "H4 = cv2.imread('hist4.bmp', cv2.IMREAD_GRAYSCALE)\n",
        "Hhist4 = cv2.calcHist([H4],[0],None,[256],[0, 256])"
      ],
      "metadata": {
        "id": "5YJhX2OhD9gi"
      },
      "execution_count": null,
      "outputs": []
    },
    {
      "cell_type": "code",
      "source": [
        "fig, axs = plt.subplots(1, 2)\n",
        "fig.set_size_inches(20, 10)\n",
        "axs[0].imshow(H1, 'gray', vmin=0, vmax=256)\n",
        "axs[0].axis('off')\n",
        "axs[1].plot(Hhist1)\n",
        "axs[1].grid()\n",
        "plt.show"
      ],
      "metadata": {
        "id": "v299qCXrGFHX"
      },
      "execution_count": null,
      "outputs": []
    },
    {
      "cell_type": "code",
      "source": [
        "HN1= np.zeros(H1.shape,dtype=np.uint8)\n",
        "x1 = cv2.normalize(H1,HN1,0,255,cv2.NORM_MINMAX)\n",
        "hn1 = cv2.calcHist([HN1],[0],None,[256],[0, 256])\n",
        "\n",
        "HN2= np.zeros(H2.shape,dtype=np.uint8)\n",
        "x2 = cv2.normalize(H2,HN2,0,255,cv2.NORM_MINMAX)\n",
        "hn2 = cv2.calcHist([HN2],[0],None,[256],[0, 256])\n",
        "\n",
        "HN3= np.zeros(H3.shape,dtype=np.uint8)\n",
        "x3 = cv2.normalize(H3,HN3,0,255,cv2.NORM_MINMAX)\n",
        "hn3 = cv2.calcHist([HN3],[0],None,[256],[0, 256])\n",
        "\n",
        "HN4= np.zeros(H4.shape,dtype=np.uint8)\n",
        "x4 = cv2.normalize(H4,HN4,0,255,cv2.NORM_MINMAX)\n",
        "hn4 = cv2.calcHist([HN4],[0],None,[256],[0, 256])"
      ],
      "metadata": {
        "id": "_AUp3xv0Ic2G"
      },
      "execution_count": null,
      "outputs": []
    },
    {
      "cell_type": "code",
      "source": [
        "fig, axs = plt.subplots(4, 4)\n",
        "fig.set_size_inches(20, 10)\n",
        "\n",
        "axs[0,0].imshow(H1, 'gray', vmin=0, vmax=256)\n",
        "axs[0,0].axis('off')\n",
        "axs[0,1].plot(Hhist1)\n",
        "axs[0,1].grid()\n",
        "axs[0,2].imshow(x1, 'gray', vmin=0, vmax=256)\n",
        "axs[0,2].axis('off')\n",
        "axs[0,3].plot(hn1)\n",
        "axs[0,3].grid()\n",
        "\n",
        "axs[1,0].imshow(H2, 'gray', vmin=0, vmax=256)\n",
        "axs[1,0].axis('off')\n",
        "axs[1,1].plot(Hhist2)\n",
        "axs[1,1].grid()\n",
        "axs[1,2].imshow(x2, 'gray', vmin=0, vmax=256)\n",
        "axs[1,2].axis('off')\n",
        "axs[1,3].plot(hn2)\n",
        "axs[1,3].grid()\n",
        "\n",
        "axs[2,0].imshow(H3, 'gray', vmin=0, vmax=256)\n",
        "axs[2,0].axis('off')\n",
        "axs[2,1].plot(Hhist3)\n",
        "axs[2,1].grid()\n",
        "axs[2,2].imshow(x3, 'gray', vmin=0, vmax=256)\n",
        "axs[2,2].axis('off')\n",
        "axs[2,3].plot(hn3)\n",
        "axs[2,3].grid()\n",
        "\n",
        "axs[3,0].imshow(H4, 'gray', vmin=0, vmax=256)\n",
        "axs[3,0].axis('off')\n",
        "axs[3,1].plot(Hhist4)\n",
        "axs[3,1].grid()\n",
        "axs[3,2].imshow(x4, 'gray', vmin=0, vmax=256)\n",
        "axs[3,2].axis('off')\n",
        "axs[3,3].plot(hn4)\n",
        "axs[3,3].grid()\n"
      ],
      "metadata": {
        "id": "KqxDmUa9KhCB"
      },
      "execution_count": null,
      "outputs": []
    },
    {
      "cell_type": "markdown",
      "source": [
        "## Wyrównywanie histogramu\n",
        "\n",
        "<div style=\"text-align: justify\">\n",
        "Bardziej zaawansowaną metodą jest tzw. wyrównywanie histogramu (ang. *histogram equalization – HE*).\n",
        "Idea jest następująca: z punktu widzenia lepszego wykorzystania dostępnych poziomów jasności pożądane jest rozciągnięcie \"szczytów\" histogramu, a~skompresowanie \"dolin\" tak, aby taka sama liczba pikseli reprezentowana była przez każdy z dostępnych poziomów jasności (a przynjamniej przybliżona).\n",
        "Warto zwrócić uwagę, że takie przekształcenie powoduje częściową utratę informacji o szczegółach w obszarach \"dolin\".\n",
        "Inaczej mówiąc, dążymy do sytuacji, aby histogram był względnie jednostajny.\n",
        "Operacją, która pozwala wykonać wyrównywanie histogramu, jest przekształcenie LUT z funkcją przejścia w postaci histogramu skumulowanego danego obrazu.</div><br>\n",
        "\n",
        "<div style=\"text-align: justify\">\n",
        "Histogram skumulowany to funkcja obliczona na podstawie histogramu.\n",
        "Jej pierwszy element to liczba pikseli o odcieniu $0$.\n",
        "Kolejne wartości to liczba pikseli o odcieniach od $0$ do $n$.</div>\n",
        "\n",
        "\\begin{equation}\n",
        "C(n) = \\sum_{i=0}^{n} h(i)\n",
        "\\end{equation}\n",
        "\n",
        "<div style=\"text-align: justify\">\n",
        "Jeżeli histogram jest w postaci znormalizowanej (gęstość rozkładu prawdopodobieństwa) to histogram skumulowany stanowi dystrybuantę rozkładu prawdopodobieństwa.</div><br>\n",
        "\n",
        "1. Wyznacz histogram skumulowany dla obrazu *hist1.bmp*.\n",
        "W tym celu wykorzystaj metodę `cumsum` dla histogramu wczytanego obrazu.\n",
        "Nie przyjmuje ona żadnych argumentów, a zwraca skumulowane wartości tablicy, dla której została użyta.\n",
        "Histogram należy wyliczyć dla **obrazka wejściowego**, a nie dla wyniku rozciągania.\n",
        "2. Histogram skumulowany wyświetl razem z histogramem zwykłym na jednym wykresie (nie obok siebie).\n",
        "Na potrzeby wyświetlenia przeskaluj histogram skumulowany tak, by miał taką samą wartość maksymalną jak zwykły histogram.\n",
        "W tym celu wykorzystaj metodę `max`.\n",
        "3. Wyświetlenie kilku linii na jednym wykresie może być zrealizowane w następujący sposób:\n",
        "        figHistCum, axsHistCum = plt.subplots()\n",
        "\n",
        "        axsHistCum.plot(HHist)\n",
        "        axsHistCum.plot(CHistNorm)\n",
        "        axsHistCum.grid()\n",
        "4. Teraz zaimplementuj klasyczny algorytm wyrównywania histogramu.\n",
        "Wykorzystać należy obliczony histogram skumulowany.\n",
        "Należy go przeskalować w taki sposób aby na jego podstawie zrealizować przekształcenie LUT, czyli do zakresu 0 - 255.\n",
        "\n",
        ">Uwaga. Opisany algorytm wyrównywania histogramu jest wersją uproszczoną.\n",
        ">W wersji pełnej należy podczas skalowania tablicy przekodowań LUT pominąć elementy równe *0*.\n",
        ">\n",
        ">W tym celu należy wykorzystać funkcje `np.ma.masked_equal` i `np.ma.filled`.\n",
        ">Pierwsza służy do ukrywania elementów tablicy, natomiast druga zamienia ukryte elementy na podaną wartość.\n",
        ">W tym przypadku elementem ukrywanym i wpisywaną wartością byłoby *0*.\n",
        "\n",
        "5. Na kolejnym rysunku wyświetl obrazek po przekształceniu, jego histogram oraz histogram skumulowany.\n",
        "Co szczególnego można powiedzieć o jego histogramie i histogramie skumulowanym?\n",
        "6. W bibliotece *OpenCV* dostępna jest funkcja wykonująca wyrównywanie histogramu `cv2.equalizeHist`.\n",
        "Jej argumentem jest obraz, którego histogram zostanie wyrównany. Zwraca natomiast obraz wynikowy.\n",
        "Na kolejnym rysunku wyświetl wynik funkcji, jego histogram oraz histogram skumulowany.\n",
        "7. W wykorzystywanej bibliotece zaimplementowana jest również metoda adaptacyjnego wyrównywania histogramu algorytmem CLAHE (ang. *Contrast Limited Adaptive Histogram Equalization*}.\n",
        "   Kilka słów wyjaśnienia.\n",
        "   Wadą poznanej metody HE jest jej \"globalność\" rozumiana jako nieuwzględnianie lokalnych właściwości obrazu.\n",
        "   Dlatego też powstała metoda adaptacyjnego wyrównywania histogramu (AHE).\n",
        "   Jest ona spotykana w dwóch wariantach:\n",
        "   - dla każdego piksela niezależnie, w pewnym jego otoczeniu, wyznaczany jest histogram i przeprowadzane wyrównywanie.\n",
        "     Jak nietrudno się domyślić rozwiązanie jest dość kosztowne obliczeniowo.\n",
        "   - obraz wejściowy dzielony jest na nienachodzące na siebie prostokątne okna.\n",
        "     W każdym z okien obliczany jest histogram i przeprowadzane jest wyrównywanie.\n",
        "     W celu eliminacji błędów na granicy okien, stosuje się interpolację.\n",
        "\n",
        "   Metoda AHE ma jednak tą wadę, że w obszarach jednorodnych wzmacnia szum.\n",
        "   Dlatego też zaproponowano rozwiązanie CLAHE, które zakłada ograniczenie kontrastu (CL).\n",
        "   W metodzie definiuje się maksymalną wartość danego przedziału histogramu (próg ograniczenia kontrastu).\n",
        "   Piksele, które przekraczają próg są następnie równomiernie rozdzielane pomiędzy poszczególne przedziały.\n",
        "   Bardziej szczegółowy opis obu metod dostępny jest na [Wikipedii](https://en.wikipedia.org/wiki/Adaptive_histogram_equalization).\n",
        "\n",
        "8.W celu użycia algorytmu należy wywołać funkcję `cv2.createCLAHE`.\n",
        "    - Pierwszym parametrem jest próg ograniczenia kontrastu.\n",
        "    - Drugi parametr definiuje na ile prostokątów zostanie podzielony obraz w rzęch i kolumnach.\n",
        "    - Zwracany jest zainicjalizowany *smart pointer* do klasy `cv::CLAHE`.\n",
        "9. Aby wykonać wyrównywanie należy użyć metody `apply`.\n",
        "Jej argumentem jest obraz wejściowy. Zwracany jest obraz o zmodyfikowanym histogramie.\n",
        "10. Przetestuj różne parametry algorytmu CLAHE.\n",
        "11. W kolejnym etapie należy przetestować operacje (rozciąganie, wyrównywanie (HE) i adaptacyjne wyrównywanie CLAHE)  na histogramie dla obrazów rzeczywistych. *hist2.bmp*, *hist3.bmp*, *hist4.jpg*.\n",
        "W jednym oknie wyświetl: obraz oryginalny, rozciąganie, wyrównywanie HE oraz wyrównywanie CLAHE."
      ],
      "metadata": {
        "collapsed": false,
        "pycharm": {
          "name": "#%% md\n"
        },
        "id": "qQYQVoOEcDvW"
      }
    },
    {
      "cell_type": "code",
      "execution_count": null,
      "outputs": [],
      "source": [
        "c1= np.cumsum(Hhist1)\n",
        "cm1 = max(c1)\n",
        "m1 = max(Hhist1)\n",
        "\n",
        "c2= np.cumsum(Hhist2)\n",
        "cm2 = max(c2)\n",
        "m2 = max(Hhist2)\n",
        "\n",
        "c3 = np.cumsum(Hhist3)\n",
        "cm3 = max(c3)\n",
        "m3 = max(Hhist3)\n",
        "\n",
        "c4= np.cumsum(Hhist4)\n",
        "cm4 = max(c4)\n",
        "m4 = max(Hhist4)"
      ],
      "metadata": {
        "pycharm": {
          "name": "#%% Zadanie 3 - histogram skumulowany\n"
        },
        "id": "Hthp3Q0WcDvX"
      }
    },
    {
      "cell_type": "code",
      "source": [
        "figHistCum, axsHistCum = plt.subplots()\n",
        "\n",
        "axsHistCum.plot(Hhist1)\n",
        "axsHistCum.plot(c1*m1/cm1)\n",
        "axsHistCum.grid()"
      ],
      "metadata": {
        "id": "ydC9wo5uQtp7"
      },
      "execution_count": null,
      "outputs": []
    },
    {
      "cell_type": "code",
      "execution_count": null,
      "outputs": [],
      "source": [
        "clut1 = c1*m1/max(c1)\n",
        "I_lut = cv2.LUT(H1,clut1*255/np.max(clut1))\n",
        "plt.imshow(I_lut)"
      ],
      "metadata": {
        "pycharm": {
          "name": "#%% Zadanie 3 - wyrównywanie\n"
        },
        "id": "xxEuLreccDvY"
      }
    },
    {
      "cell_type": "code",
      "execution_count": null,
      "outputs": [],
      "source": [
        "fig, axs = plt.subplots(4, 2)\n",
        "fig.set_size_inches(10, 10)\n",
        "\n",
        "axs[0,0].imshow(x1, 'gray', vmin=0, vmax=256)\n",
        "axs[0,0].axis('off')\n",
        "axs[0,1].plot(Hhist1)\n",
        "axs[0,1].plot(c1*m1/cm1)\n",
        "axs[0,1].grid()\n",
        "\n",
        "axs[1,0].imshow(x2, 'gray', vmin=0, vmax=256)\n",
        "axs[1,0].axis('off')\n",
        "axs[1,1].plot(Hhist2)\n",
        "axs[1,1].plot(c2*m2/cm2)\n",
        "axs[1,1].grid()\n",
        "\n",
        "axs[2,0].imshow(x3, 'gray', vmin=0, vmax=256)\n",
        "axs[2,0].axis('off')\n",
        "axs[2,1].plot(Hhist3)\n",
        "axs[2,1].plot(c3*m3/cm3)\n",
        "axs[2,1].grid()\n",
        "\n",
        "axs[3,0].imshow(x4, 'gray', vmin=0, vmax=256)\n",
        "axs[3,0].axis('off')\n",
        "axs[3,1].plot(Hhist4)\n",
        "axs[3,1].plot(c4*m4/cm4)\n",
        "axs[3,1].grid()"
      ],
      "metadata": {
        "pycharm": {
          "name": "#%% Zadanie 3 - wyrównywanie OpenCV\n"
        },
        "id": "EajsxfqncDvY"
      }
    },
    {
      "cell_type": "code",
      "execution_count": null,
      "outputs": [],
      "source": [
        "I1 = cv2.equalizeHist(H1)\n",
        "Ihist1 = cv2.calcHist([I1],[0],None,[256],[0, 256])\n",
        "ih1= np.cumsum(Ihist1)\n",
        "cm1 = max(ih1)\n",
        "m1 = max(Ihist1)\n",
        "\n",
        "I2 = cv2.equalizeHist(H2)\n",
        "Ihist2 = cv2.calcHist([I2],[0],None,[256],[0, 256])\n",
        "ih2= np.cumsum(Ihist2)\n",
        "cm2 = max(ih2)\n",
        "m2 = max(Ihist2)\n",
        "\n",
        "I3 = cv2.equalizeHist(H3)\n",
        "Ihist3 = cv2.calcHist([I3],[0],None,[256],[0, 256])\n",
        "ih3= np.cumsum(Ihist3)\n",
        "cm3 = max(ih3)\n",
        "m3 = max(Ihist3)\n",
        "\n",
        "I4 = cv2.equalizeHist(H4)\n",
        "Ihist4 = cv2.calcHist([I4],[0],None,[256],[0, 256])\n",
        "ih4 = np.cumsum(Ihist4)\n",
        "cm4 = max(ih4)\n",
        "m4 = max(Ihist4)"
      ],
      "metadata": {
        "pycharm": {
          "name": "#%% Zadanie 3 - CLAHE\n"
        },
        "id": "xOEFxbVrcDvY"
      }
    },
    {
      "cell_type": "code",
      "source": [
        "fig, axs = plt.subplots(4, 2)\n",
        "fig.set_size_inches(10, 10)\n",
        "\n",
        "axs[0,0].imshow(I1, 'gray', vmin=0, vmax=256)\n",
        "axs[0,0].axis('off')\n",
        "axs[0,1].plot(Ihist1)\n",
        "axs[0,1].plot(ih1*m1/cm1)\n",
        "axs[0,1].grid()\n",
        "\n",
        "axs[1,0].imshow(I2, 'gray', vmin=0, vmax=256)\n",
        "axs[1,0].axis('off')\n",
        "axs[1,1].plot(Ihist2)\n",
        "axs[1,1].plot(ih2*m2/cm2)\n",
        "axs[1,1].grid()\n",
        "\n",
        "axs[2,0].imshow(I3, 'gray', vmin=0, vmax=256)\n",
        "axs[2,0].axis('off')\n",
        "axs[2,1].plot(Ihist3)\n",
        "axs[2,1].plot(ih3*m3/cm3)\n",
        "axs[2,1].grid()\n",
        "\n",
        "axs[3,0].imshow(I4, 'gray', vmin=0, vmax=256)\n",
        "axs[3,0].axis('off')\n",
        "axs[3,1].plot(Ihist4)\n",
        "axs[3,1].plot(ih4*m4/cm4)\n",
        "axs[3,1].grid()"
      ],
      "metadata": {
        "id": "O_NpLPFZr9Pr"
      },
      "execution_count": null,
      "outputs": []
    },
    {
      "cell_type": "code",
      "source": [
        "clahe1 = cv2.createCLAHE(5,(8,8))\n",
        "cimg1 = clahe1.apply(H1)\n",
        "\n",
        "clahe2 = cv2.createCLAHE(5,(8,8))\n",
        "cimg2 = clahe2.apply(H2)\n",
        "\n",
        "clahe3 = cv2.createCLAHE(5,(8,8))\n",
        "cimg3 = clahe3.apply(H3)\n",
        "\n",
        "clahe4 = cv2.createCLAHE(5,(8,8))\n",
        "cimg4 = clahe4.apply(H4)"
      ],
      "metadata": {
        "id": "ivPgfpCdvMPU"
      },
      "execution_count": null,
      "outputs": []
    },
    {
      "cell_type": "code",
      "source": [
        "# W kolejnym etapie należy przetestować operacje (rozciąganie, wyrównywanie (HE) i adaptacyjne wyrównywanie CLAHE) na histogramie dla \n",
        "# obrazów rzeczywistych. hist2.bmp, hist3.bmp, hist4.jpg. W jednym oknie wyświetl: obraz oryginalny, rozciąganie, wyrównywanie HE oraz wyrównywanie CLAHE."
      ],
      "metadata": {
        "id": "aq-i4G9xwm9J"
      },
      "execution_count": null,
      "outputs": []
    },
    {
      "cell_type": "code",
      "source": [
        "fig, axs = plt.subplots(4, 4)\n",
        "fig.set_size_inches(15, 15)\n",
        "\n",
        "axs[0,0].imshow(H1, 'gray', vmin=0, vmax=256)\n",
        "axs[0,0].axis('off')\n",
        "axs[0,1].imshow(x1, 'gray', vmin=0, vmax=256)\n",
        "axs[0,1].axis('off')\n",
        "axs[0,2].imshow(I1, 'gray', vmin=0, vmax=256)\n",
        "axs[0,2].axis('off')\n",
        "axs[0,3].imshow(cimg1, 'gray', vmin=0, vmax=256)\n",
        "axs[0,3].axis('off')\n",
        "\n",
        "axs[1,0].imshow(H2, 'gray', vmin=0, vmax=256)\n",
        "axs[1,0].axis('off')\n",
        "axs[1,1].imshow(x2, 'gray', vmin=0, vmax=256)\n",
        "axs[1,1].axis('off')\n",
        "axs[1,2].imshow(I2, 'gray', vmin=0, vmax=256)\n",
        "axs[1,2].axis('off')\n",
        "axs[1,3].imshow(cimg2, 'gray', vmin=0, vmax=256)\n",
        "axs[1,3].axis('off')\n",
        "\n",
        "axs[2,0].imshow(H3, 'gray', vmin=0, vmax=256)\n",
        "axs[2,0].axis('off')\n",
        "axs[2,1].imshow(x3, 'gray', vmin=0, vmax=256)\n",
        "axs[2,1].axis('off')\n",
        "axs[2,2].imshow(I3, 'gray', vmin=0, vmax=256)\n",
        "axs[2,2].axis('off')\n",
        "axs[2,3].imshow(cimg3, 'gray', vmin=0, vmax=256)\n",
        "axs[2,3].axis('off')\n",
        "\n",
        "axs[3,0].imshow(H4, 'gray', vmin=0, vmax=256)\n",
        "axs[3,0].axis('off')\n",
        "axs[3,1].imshow(x4, 'gray', vmin=0, vmax=256)\n",
        "axs[3,1].axis('off')\n",
        "axs[3,2].imshow(I4, 'gray', vmin=0, vmax=256)\n",
        "axs[3,2].axis('off')\n",
        "axs[3,3].imshow(cimg4, 'gray', vmin=0, vmax=256)\n",
        "axs[3,3].axis('off')"
      ],
      "metadata": {
        "id": "kAGnRxsVwvAI"
      },
      "execution_count": null,
      "outputs": []
    },
    {
      "cell_type": "markdown",
      "source": [
        "## Histogram dla obrazów kolorowych i jego wyrównywanie\n",
        "\n",
        "1. Wczytaj obraz *lenaRGB.bmp*.\n",
        "2. Wykonaj konwersję przestrzeni barw z BGR do RGB.\n",
        "3. Wyświetl wczytany obraz oraz histogram dla każdej składowej przestrzeni barw.\n",
        "W tym celu można użyć drugiego argumentu wykorzystywanej funkcji (numer kanału).\n",
        "4. Wykonaj wyrównywanie dla każdej składowej obrazu. Połącz otrzymane składowe w nowy obraz i wyświetl go.\n",
        "Jaka jest zasadnicza wada takiego podejścia?\n",
        "5. Przekształć obraz wejściowy do przestrzeni HSV (flaga `cv2.COLOR_BGR2HSV`).\n",
        "Wyświetl histogramy poszczególnych składowych.\n",
        "Manipulacji dokonujemy na składowej odpowiadającej za jasność, czyli V.\n",
        "Wykonaj wyrównywanie histogramu dla tej składowej.\n",
        "Dokonaj podmiany składowej V i wyświetl rezultat operacji.\n",
        "Uprzednio przeprowadź konwersję HSV->RGB (flaga `cv2.COLOR_HSV2RGB`).\n",
        "6. Wykonaj te same operacje dla obrazu *jezioro.jpg*."
      ],
      "metadata": {
        "collapsed": false,
        "pycharm": {
          "name": "#%% md\n"
        },
        "id": "C9WYAOJTcDvZ"
      }
    },
    {
      "cell_type": "code",
      "execution_count": null,
      "outputs": [],
      "source": [
        "fileName = 'lenaRGB.bmp'\n",
        "if not os.path.exists(fileName) :\n",
        "    r = requests.get(url + fileName, allow_redirects=True)\n",
        "    open(fileName, 'wb').write(r.content)\n",
        "\n",
        "fileName = 'jezioro.jpg'\n",
        "if not os.path.exists(fileName) :\n",
        "    r = requests.get(url + fileName, allow_redirects=True)\n",
        "    open(fileName, 'wb').write(r.content)"
      ],
      "metadata": {
        "pycharm": {
          "name": "#%% Zadanie 4 - histogram\n"
        },
        "id": "y5T31GV3cDvZ"
      }
    },
    {
      "cell_type": "code",
      "execution_count": null,
      "outputs": [],
      "source": [
        "L = cv2.imread('lenaRGB.bmp')\n",
        "J = cv2.imread('jezioro.jpg')\n",
        "\n",
        "L_rgb = cv2.cvtColor(L, cv2.COLOR_BGR2RGB)\n",
        "J_rgb = cv2.cvtColor(J, cv2.COLOR_BGR2RGB)"
      ],
      "metadata": {
        "pycharm": {
          "name": "#%% Zadanie 4 - wyrównanie\n"
        },
        "id": "vzj4kEtOcDva"
      }
    },
    {
      "cell_type": "code",
      "source": [
        "plt.imshow(L)\n",
        "plt.show()\n",
        "plt.imshow(L_rgb)\n",
        "plt.show()\n",
        "plt.imshow(J)\n",
        "plt.show()\n",
        "plt.imshow(J_rgb)\n",
        "plt.show()"
      ],
      "metadata": {
        "id": "9zbhy8iq22SK"
      },
      "execution_count": null,
      "outputs": []
    },
    {
      "cell_type": "code",
      "execution_count": null,
      "outputs": [],
      "source": [
        "Lh1 = cv2.calcHist([L],[0],None,[256],[0, 256])\n",
        "Lh2 = cv2.calcHist([L],[1],None,[256],[0, 256])\n",
        "Lh3 = cv2.calcHist([L],[2],None,[256],[0, 256])\n",
        "\n",
        "Lhr1 = cv2.calcHist([L_rgb],[0],None,[256],[0, 256])\n",
        "Lhr2 = cv2.calcHist([L_rgb],[1],None,[256],[0, 256])\n",
        "Lhr3 = cv2.calcHist([L_rgb],[2],None,[256],[0, 256])\n",
        "\n",
        "Jh1 = cv2.calcHist([J],[0],None,[256],[0, 256])\n",
        "Jh2 = cv2.calcHist([J],[1],None,[256],[0, 256])\n",
        "Jh3 = cv2.calcHist([J],[2],None,[256],[0, 256])\n",
        "\n",
        "Jhr1 = cv2.calcHist([J_rgb],[0],None,[256],[0, 256])\n",
        "Jhr2 = cv2.calcHist([J_rgb],[1],None,[256],[0, 256])\n",
        "Jhr3 = cv2.calcHist([J_rgb],[2],None,[256],[0, 256])"
      ],
      "metadata": {
        "pycharm": {
          "name": "#%% Zadanie 4 - HSV histogram\n"
        },
        "id": "sExCMbOYcDva"
      }
    },
    {
      "cell_type": "code",
      "execution_count": null,
      "outputs": [],
      "source": [
        "fig, axs = plt.subplots(4, 4)\n",
        "fig.set_size_inches(20, 10)\n",
        "\n",
        "axs[0,0].imshow(L, 'gray', vmin=0, vmax=256)\n",
        "axs[0,0].axis('off')\n",
        "axs[0,1].plot(Lh1)\n",
        "axs[0,1].grid()\n",
        "axs[0,2].plot(Lh2)\n",
        "axs[0,2].grid()\n",
        "axs[0,3].plot(Lh3)\n",
        "axs[0,3].grid()\n",
        "\n",
        "axs[1,0].imshow(L_rgb, 'gray', vmin=0, vmax=256)\n",
        "axs[1,0].axis('off')\n",
        "axs[1,1].plot(Lhr1)\n",
        "axs[1,1].grid()\n",
        "axs[1,2].plot(Lhr2)\n",
        "axs[1,2].grid()\n",
        "axs[1,3].plot(Lhr3)\n",
        "axs[1,3].grid()\n",
        "\n",
        "axs[2,0].imshow(J, 'gray', vmin=0, vmax=256)\n",
        "axs[2,0].axis('off')\n",
        "axs[2,1].plot(Jh1)\n",
        "axs[2,1].grid()\n",
        "axs[2,2].plot(Jh2)\n",
        "axs[2,2].grid()\n",
        "axs[2,3].plot(Jh3)\n",
        "axs[2,3].grid()\n",
        "\n",
        "axs[3,0].imshow(J_rgb, 'gray', vmin=0, vmax=256)\n",
        "axs[3,0].axis('off')\n",
        "axs[3,1].plot(Jhr1)\n",
        "axs[3,1].grid()\n",
        "axs[3,2].plot(Jhr2)\n",
        "axs[3,2].grid()\n",
        "axs[3,3].plot(Jhr3)\n",
        "axs[3,3].grid()"
      ],
      "metadata": {
        "pycharm": {
          "name": "#%% Zadanie 4 - HSV wyrównanie\n"
        },
        "id": "AGV4sG7TcDvb"
      }
    },
    {
      "cell_type": "code",
      "source": [
        "Lw1 = cv2.equalizeHist(L[:,:,0])\n",
        "Lw2 = cv2.equalizeHist(L[:,:,1])\n",
        "Lw3 = cv2.equalizeHist(L[:,:,2])\n",
        "Lwh1 = cv2.calcHist([Lw1],[0],None,[256],[0, 256])\n",
        "Lwh2 = cv2.calcHist([Lw2],[0],None,[256],[0, 256])\n",
        "Lwh3 = cv2.calcHist([Lw3],[0],None,[256],[0, 256])\n",
        "\n",
        "Jw1 = cv2.equalizeHist(J[:,:,0])\n",
        "Jw2 = cv2.equalizeHist(J[:,:,1])\n",
        "Jw3 = cv2.equalizeHist(J[:,:,2])\n",
        "Jwh1 = cv2.calcHist([Jw1],[0],None,[256],[0, 256])\n",
        "Jwh2 = cv2.calcHist([Jw2],[0],None,[256],[0, 256])\n",
        "Jwh3 = cv2.calcHist([Jw3],[0],None,[256],[0, 256])\n",
        "\n",
        "Jwr1 = cv2.equalizeHist(J_rgb[:,:,0])\n",
        "Jwr2 = cv2.equalizeHist(J_rgb[:,:,1])\n",
        "Jwr3 = cv2.equalizeHist(J_rgb[:,:,2])\n",
        "Jwhr1 = cv2.calcHist([Jwr1],[0],None,[256],[0, 256])\n",
        "Jwhr2 = cv2.calcHist([Jwr2],[0],None,[256],[0, 256])\n",
        "Jwhr3 = cv2.calcHist([Jwr3],[0],None,[256],[0, 256])\n",
        "\n",
        "Lwr1 = cv2.equalizeHist(L_rgb[:,:,0])\n",
        "Lwr2 = cv2.equalizeHist(L_rgb[:,:,1])\n",
        "Lwr3 = cv2.equalizeHist(L_rgb[:,:,2])\n",
        "Lwhr1 = cv2.calcHist([Lwr1],[0],None,[256],[0, 256])\n",
        "Lwhr2 = cv2.calcHist([Lwr2],[0],None,[256],[0, 256])\n",
        "Lwhr3 = cv2.calcHist([Lwr3],[0],None,[256],[0, 256])"
      ],
      "metadata": {
        "id": "X040o2-I5ZtZ"
      },
      "execution_count": null,
      "outputs": []
    },
    {
      "cell_type": "code",
      "source": [
        "Lmix = L.copy()\n",
        "Lmix[:,:,0] = Lw1\n",
        "Lmix[:,:,1] = Lw2\n",
        "Lmix[:,:,2] = Lw3\n",
        "plt.imshow(Lmix)\n",
        "plt.show()\n",
        "\n",
        "Lrgbmix = L_rgb.copy()\n",
        "Lrgbmix[:,:,0] = Lwr1\n",
        "Lrgbmix[:,:,1] = Lwr2\n",
        "Lrgbmix[:,:,2] = Lwr3\n",
        "plt.imshow(Lrgbmix)\n",
        "plt.show()\n",
        "\n",
        "Jmix = J.copy()\n",
        "Jmix[:,:,0] = Jw1\n",
        "Jmix[:,:,1] = Jw2\n",
        "Jmix[:,:,2] = Jw3\n",
        "plt.imshow(Jmix)\n",
        "plt.show()\n",
        "\n",
        "Jrgbmix = J_rgb.copy()\n",
        "Jrgbmix[:,:,0] = Jwr1\n",
        "Jrgbmix[:,:,1] = Jwr2\n",
        "Jrgbmix[:,:,2] = Jwr3\n",
        "plt.imshow(Jrgbmix)\n",
        "plt.show()"
      ],
      "metadata": {
        "id": "qvqPt9q389Zv"
      },
      "execution_count": null,
      "outputs": []
    },
    {
      "cell_type": "code",
      "source": [
        "L_hsv = cv2.cvtColor(L, cv2.COLOR_BGR2HSV)\n",
        "J_hsv = cv2.cvtColor(J, cv2.COLOR_BGR2HSV)\n",
        "plt.imshow(L_hsv)\n",
        "plt.show()\n",
        "plt.imshow(J_hsv)"
      ],
      "metadata": {
        "id": "Q2xwEQUL-9Ln"
      },
      "execution_count": null,
      "outputs": []
    },
    {
      "cell_type": "code",
      "source": [
        "Jhv1 = cv2.calcHist([J_hsv],[0],None,[256],[0, 256])\n",
        "Jhv2 = cv2.calcHist([J_hsv],[1],None,[256],[0, 256])\n",
        "Jhv3 = cv2.calcHist([J_hsv],[2],None,[256],[0, 256])\n",
        "\n",
        "Lhv1 = cv2.calcHist([L_hsv],[0],None,[256],[0, 256])\n",
        "Lhv2 = cv2.calcHist([L_hsv],[1],None,[256],[0, 256])\n",
        "Lhv3 = cv2.calcHist([L_hsv],[2],None,[256],[0, 256])"
      ],
      "metadata": {
        "id": "QBjiNXQHCx9z"
      },
      "execution_count": null,
      "outputs": []
    },
    {
      "cell_type": "code",
      "source": [
        "fig, axs = plt.subplots(2, 4)\n",
        "fig.set_size_inches(20, 10)\n",
        "\n",
        "axs[0,0].imshow(L_hsv, 'gray', vmin=0, vmax=256)\n",
        "axs[0,0].axis('off')\n",
        "axs[0,1].plot(Lhv1)\n",
        "axs[0,1].grid()\n",
        "axs[0,2].plot(Lhv2)\n",
        "axs[0,2].grid()\n",
        "axs[0,3].plot(Lhv3)\n",
        "axs[0,3].grid()\n",
        "\n",
        "axs[1,0].imshow(J_hsv, 'gray', vmin=0, vmax=256)\n",
        "axs[1,0].axis('off')\n",
        "axs[1,1].plot(Jhv1)\n",
        "axs[1,1].grid()\n",
        "axs[1,2].plot(Jhv2)\n",
        "axs[1,2].grid()\n",
        "axs[1,3].plot(Jhv3)\n",
        "axs[1,3].grid()\n"
      ],
      "metadata": {
        "id": "zviO9NaRDP4B"
      },
      "execution_count": null,
      "outputs": []
    },
    {
      "cell_type": "code",
      "source": [
        "Lhe = L_hsv.copy()\n",
        "Jhe = J_hsv.copy()\n",
        "Lhe[:,:,2] = cv2.equalizeHist(Lhe[:,:,2])\n",
        "Jhe[:,:,2] = cv2.equalizeHist(Jhe[:,:,2])\n",
        "lf0 = cv2.calcHist([Lhe],[0],None,[256],[0, 256])\n",
        "lf1 = cv2.calcHist([Lhe],[1],None,[256],[0, 256])\n",
        "lf2 = cv2.calcHist([Lhe],[2],None,[256],[0, 256])\n",
        "jf0 = cv2.calcHist([Jhe],[0],None,[256],[0, 256])\n",
        "jf1 = cv2.calcHist([Jhe],[1],None,[256],[0, 256])\n",
        "jf2 = cv2.calcHist([Jhe],[2],None,[256],[0, 256])\n",
        "\n",
        "\n",
        "fig, axs = plt.subplots(2, 4)\n",
        "fig.set_size_inches(20, 10)\n",
        "\n",
        "axs[0,0].imshow(Lhe, 'gray', vmin=0, vmax=256)\n",
        "axs[0,0].axis('off')\n",
        "axs[0,1].plot(lf0)\n",
        "axs[0,1].grid()\n",
        "axs[0,2].plot(lf1)\n",
        "axs[0,2].grid()\n",
        "axs[0,3].plot(lf2)\n",
        "axs[0,3].grid()\n",
        "\n",
        "axs[1,0].imshow(Jhe, 'gray', vmin=0, vmax=256)\n",
        "axs[1,0].axis('off')\n",
        "axs[1,1].plot(jf0)\n",
        "axs[1,1].grid()\n",
        "axs[1,2].plot(jf1)\n",
        "axs[1,2].grid()\n",
        "axs[1,3].plot(jf2)\n",
        "axs[1,3].grid()"
      ],
      "metadata": {
        "id": "aXetK22oFRb_"
      },
      "execution_count": null,
      "outputs": []
    },
    {
      "cell_type": "code",
      "source": [
        "L_hrgb = cv2.cvtColor(Lhe, cv2.COLOR_HSV2RGB)\n",
        "J_hrgb = cv2.cvtColor(Jhe, cv2.COLOR_HSV2RGB)\n",
        "plt.imshow(L_hrgb)\n",
        "plt.show()\n",
        "plt.imshow(J_hrgb)"
      ],
      "metadata": {
        "id": "iBJYoe4zKGWs"
      },
      "execution_count": null,
      "outputs": []
    },
    {
      "cell_type": "code",
      "source": [
        "lh0 = cv2.calcHist([L_hrgb],[0],None,[256],[0, 256])\n",
        "lh1 = cv2.calcHist([L_hrgb],[1],None,[256],[0, 256])\n",
        "lh2 = cv2.calcHist([L_hrgb],[2],None,[256],[0, 256])\n",
        "jh0 = cv2.calcHist([J_hrgb],[0],None,[256],[0, 256])\n",
        "jh1 = cv2.calcHist([J_hrgb],[1],None,[256],[0, 256])\n",
        "jh2 = cv2.calcHist([J_hrgb],[2],None,[256],[0, 256])"
      ],
      "metadata": {
        "id": "RWxxyHsdK16-"
      },
      "execution_count": null,
      "outputs": []
    },
    {
      "cell_type": "code",
      "source": [
        "fig, axs = plt.subplots(2, 4)\n",
        "fig.set_size_inches(20, 10)\n",
        "\n",
        "axs[0,0].imshow(L_hrgb, 'gray', vmin=0, vmax=256)\n",
        "axs[0,0].axis('off')\n",
        "axs[0,1].plot(lh0)\n",
        "axs[0,1].grid()\n",
        "axs[0,2].plot(lh1)\n",
        "axs[0,2].grid()\n",
        "axs[0,3].plot(lh2)\n",
        "axs[0,3].grid()\n",
        "\n",
        "axs[1,0].imshow(J_hrgb, 'gray', vmin=0, vmax=256)\n",
        "axs[1,0].axis('off')\n",
        "axs[1,1].plot(jh0)\n",
        "axs[1,1].grid()\n",
        "axs[1,2].plot(jh1)\n",
        "axs[1,2].grid()\n",
        "axs[1,3].plot(jh2)\n",
        "axs[1,3].grid()"
      ],
      "metadata": {
        "id": "hCAy4shsLFPy"
      },
      "execution_count": null,
      "outputs": []
    }
  ],
  "metadata": {
    "kernelspec": {
      "display_name": "Python 3",
      "language": "python",
      "name": "python3"
    },
    "language_info": {
      "codemirror_mode": {
        "name": "ipython",
        "version": 3
      },
      "file_extension": ".py",
      "mimetype": "text/x-python",
      "name": "python",
      "nbconvert_exporter": "python",
      "pygments_lexer": "ipython3",
      "version": "3.8.3"
    },
    "colab": {
      "provenance": [],
      "collapsed_sections": []
    }
  },
  "nbformat": 4,
  "nbformat_minor": 0
}