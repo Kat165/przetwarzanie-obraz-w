{
  "cells": [
    {
      "cell_type": "markdown",
      "source": [
        "## Zadanie domowe: BBHE i DSIHE\n",
        "\n",
        "W klasycznym wyrównywaniu histogramu HE  po wykonaniu operacji jasność obrazu ulega zmianie.\n",
        "Dało się to zaobserwować podczas przeprowadzonych eksperymentów.\n",
        "Jeśli nie to należy uruchomić skrypt z sekcji A i zwrócić na to uwagę.\n",
        "Średnia jasność dąży do środkowego poziomu szarości.\n",
        "Jest to wada i dlatego klasyczne HE ma ograniczone zastosowanie.\n",
        "\n",
        "Powstało sporo metod, które eliminują to niekorzystne zjawisko.\n",
        "Najprostsze z nich polegają na dekompozycji obrazu wejściowego na dwa podobrazy (wg. pewnego kryterium).\n",
        "Następnie operacja HE wykonywana jest dla tych podobrazów.\n",
        "\n",
        "Dwie znane z literatury metody to:\n",
        "- Bi-Histogram Equalization\n",
        "- DSIHE - Dualistic Sub-Image Histogram Equalization\n",
        "\n",
        "W metodzie BBHE za kryterium podziału przyjmuje się średnią jasność w obrazie.\n",
        "W DSIHE obraz dzieli się na dwa podobrazy o takiej samej liczbie pikseli (jaśniejszych i ciemniejszych).\n",
        "\n",
        "W ramach zadania należy zaimplementować wybraną metodę: BBHE lub DSIHE (ew. obie).\n",
        "\n",
        "1. Wczytaj obraz *jet.bmp* i wylicz jego histogram.\n",
        "2. W kolejnym kroku należy wyznaczyć próg podziału obrazu na dwa podobrazy (*lm*).\n",
        "3. Dla BBHE wyznacz średnią jasność obrazu. Dla DSIHE można wykorzystać histogram skumulowany.\n",
        "Należy znaleźć poziom jasności który znajduje się \"w połowie\" histogramu skumulowanego.\n",
        "W tym celu warto stworzyć tablicę, zawierającą moduł histogramu skumulowanego pomniejszonego o połowę liczby pikseli.\n",
        "Następnie znaleźć minimum - `np.argmin`.\n",
        "4. Dalej należy podzielić histogram oryginalnego obrazu na dwa histogramy *H1* i *H2*.\n",
        "Dla każdego z nich wyliczyć histogram skumulowany ($C_1$ i $C_2$) i wykonać normalizację.\n",
        "Normalizacja polega na podzieleniu każdego histogramu przez jego największy element.\n",
        "5. Na podstawie histogramów skumulowanych należy stworzyć przekształcenie LUT.\n",
        "Należy tak przeskalować $C_1$ i $C_2$, aby uzyskać jednorodne przekształcenie.\n",
        "Tablicę $C_1$ wystarczy pomnożyć przez próg podziału.\n",
        "Tablicę $C_2$ należy przeskalować do przedziału: $<lm+1; 255>$, gdzie $lm$ jest progiem podziału.<br>\n",
        "$C_{1n} = (lm)*C1;$<br>\n",
        "$C_{2n} = lm+1 + (255-lm-1)*C2;$<br>\n",
        "Następnie dwie części tablicy przekodowań należy połączyć.\n",
        "6. Ostatecznie należy wykonać operację LUT i wyświetlić wynik wyrównywania histogramu.\n",
        "Porównaj wynik operacji BBHE lub DSIHE z klasycznym HE."
      ],
      "metadata": {
        "collapsed": false,
        "id": "4Fbe36eKPM0s"
      }
    },
    {
      "cell_type": "code",
      "execution_count": null,
      "outputs": [],
      "source": [
        "import cv2\n",
        "import os\n",
        "import requests\n",
        "from matplotlib import pyplot as plt\n",
        "import numpy as np\n",
        "\n",
        "url = 'https://raw.githubusercontent.com/vision-agh/poc_sw/master/02_Point/'\n",
        "fileName = 'jet.bmp'\n",
        "if not os.path.exists(fileName) :\n",
        "    r = requests.get(url + fileName, allow_redirects=True)\n",
        "    open(fileName, 'wb').write(r.content)"
      ],
      "metadata": {
        "pycharm": {
          "name": "#%% Zadanie domowe - BBHE\n"
        },
        "id": "c2Q0bFkqPM0v"
      }
    },
    {
      "cell_type": "code",
      "execution_count": null,
      "outputs": [],
      "source": [
        "# Wczytaj obraz jet.bmp i wylicz jego histogram."
      ],
      "metadata": {
        "pycharm": {
          "name": "#%% Zadanie domowe - DSIHE\n"
        },
        "id": "KPTV1fMpPM0y"
      }
    },
    {
      "cell_type": "code",
      "source": [
        "J = cv2.imread('jet.bmp', cv2.IMREAD_GRAYSCALE)\n",
        "hist = cv2.calcHist([J],[0],None,[256],[0, 256])\n",
        "\n",
        "figLena, axsLena = plt.subplots(1, 2)\n",
        "figLena.set_size_inches(10, 5)\n",
        "axsLena[0].imshow(J, 'gray', vmin=0, vmax=256)\n",
        "axsLena[0].axis('off')\n",
        "axsLena[1].plot(hist)\n",
        "axsLena[1].grid()\n"
      ],
      "metadata": {
        "id": "PUwCTskxW0L7"
      },
      "execution_count": null,
      "outputs": []
    },
    {
      "cell_type": "code",
      "source": [
        "# W kolejnym kroku należy wyznaczyć próg podziału obrazu na dwa podobrazy (lm)."
      ],
      "metadata": {
        "id": "MNxvLTeeXnP7"
      },
      "execution_count": null,
      "outputs": []
    },
    {
      "cell_type": "code",
      "source": [
        "J[:,:]"
      ],
      "metadata": {
        "id": "0LggoloJZMus"
      },
      "execution_count": null,
      "outputs": []
    },
    {
      "cell_type": "code",
      "source": [
        "# Dla BBHE wyznacz średnią jasność obrazu. Dla DSIHE można wykorzystać histogram skumulowany. \n",
        "# Należy znaleźć poziom jasności który znajduje się \"w połowie\" histogramu skumulowanego. W tym celu warto stworzyć tablicę, \n",
        "#zawierającą moduł histogramu skumulowanego pomniejszonego o połowę liczby pikseli. Następnie znaleźć minimum - np.argmin."
      ],
      "metadata": {
        "id": "ib7YrALrZNIH"
      },
      "execution_count": null,
      "outputs": []
    },
    {
      "cell_type": "code",
      "source": [
        "J_mean = int(J.mean())\n",
        "J_mean"
      ],
      "metadata": {
        "id": "8aQq5KQiZXF2"
      },
      "execution_count": null,
      "outputs": []
    },
    {
      "cell_type": "code",
      "source": [
        "# Dalej należy podzielić histogram oryginalnego obrazu na dwa histogramy H1 i H2. Dla każdego z nich wyliczyć histogram \n",
        "# skumulowany ( C1  i  C2 ) i wykonać normalizację. Normalizacja polega na podzieleniu każdego histogramu przez jego największy element."
      ],
      "metadata": {
        "id": "URKTDcV6Z6kb"
      },
      "execution_count": null,
      "outputs": []
    },
    {
      "cell_type": "code",
      "source": [
        "H1 = hist[:J_mean]\n",
        "H2 = hist[J_mean:256]\n",
        "\n",
        "C1 = np.cumsum(H1)\n",
        "C2 = np.cumsum(H2)\n",
        "\n",
        "C1 = C1/np.max(C1)\n",
        "C2 = C2/np.max(C2)"
      ],
      "metadata": {
        "id": "BFDL8z7MZ9mk"
      },
      "execution_count": null,
      "outputs": []
    },
    {
      "cell_type": "code",
      "source": [
        "#Na podstawie histogramów skumulowanych należy stworzyć przekształcenie LUT. Należy tak przeskalować  C1  i  C2 , \n",
        "# aby uzyskać jednorodne przekształcenie. Tablicę  C1  wystarczy pomnożyć przez próg podziału. Tablicę  C2  należy przeskalować do \n",
        "# przedziału:  <lm+1;255> , gdzie  lm  jest progiem podziału.\n",
        "#C1n=(lm)∗C1; \n",
        "#C2n=lm+1+(255−lm−1)∗C2;\n",
        "#Następnie dwie części tablicy przekodowań należy połączyć."
      ],
      "metadata": {
        "id": "OyDRAM4QfAs_"
      },
      "execution_count": null,
      "outputs": []
    },
    {
      "cell_type": "code",
      "source": [
        "for x in range(len(C2)):\n",
        "  C2[x] = J_mean + 1 + (255 - J_mean - 1) * C2[x]\n",
        "  \n",
        "C1n = J_mean * C1\n",
        "\n",
        "C2n = C2.copy()\n",
        "CC = np.concatenate((C1n,C2n))\n",
        "print(CC)"
      ],
      "metadata": {
        "id": "3ekebrY-fFY8"
      },
      "execution_count": null,
      "outputs": []
    },
    {
      "cell_type": "code",
      "source": [
        "#Ostatecznie należy wykonać operację LUT i wyświetlić wynik wyrównywania histogramu. Porównaj wynik operacji BBHE lub DSIHE z klasycznym HE."
      ],
      "metadata": {
        "id": "hECaq-7ZfudL"
      },
      "execution_count": null,
      "outputs": []
    },
    {
      "cell_type": "code",
      "source": [
        "maxcc = np.max(CC)\n",
        "CC = (CC/maxcc)*255\n",
        "for x in range(len(CC)):\n",
        "  CC[x] = int(CC[x])\n",
        "plt.plot(CC)"
      ],
      "metadata": {
        "id": "bpuPsli4gQse"
      },
      "execution_count": null,
      "outputs": []
    },
    {
      "cell_type": "code",
      "source": [
        "I = cv2.equalizeHist(J)\n",
        "Heq = cv2.calcHist([J],[0],None,[256],[0, 256])\n",
        "plt.plot(Heq)"
      ],
      "metadata": {
        "id": "Zksm_zKjggzi"
      },
      "execution_count": null,
      "outputs": []
    },
    {
      "cell_type": "code",
      "source": [
        "Jv2 = cv2.LUT(J,CC)\n",
        "plt.imshow(J, 'gray', vmin=0, vmax=256)\n",
        "plt.show()\n",
        "plt.imshow(I, 'gray', vmin=0, vmax=256)\n",
        "plt.show()\n",
        "plt.imshow(Jv2, 'gray', vmin=0, vmax=256)"
      ],
      "metadata": {
        "id": "hQpdeWvmyv3v"
      },
      "execution_count": null,
      "outputs": []
    }
  ],
  "metadata": {
    "kernelspec": {
      "display_name": "Python 3",
      "language": "python",
      "name": "python3"
    },
    "language_info": {
      "codemirror_mode": {
        "name": "ipython",
        "version": 2
      },
      "file_extension": ".py",
      "mimetype": "text/x-python",
      "name": "python",
      "nbconvert_exporter": "python",
      "pygments_lexer": "ipython2",
      "version": "2.7.6"
    },
    "colab": {
      "provenance": [],
      "collapsed_sections": []
    }
  },
  "nbformat": 4,
  "nbformat_minor": 0
}