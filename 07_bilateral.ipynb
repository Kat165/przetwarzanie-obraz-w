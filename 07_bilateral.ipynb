{
  "cells": [
    {
      "cell_type": "markdown",
      "metadata": {
        "pycharm": {
          "name": "#%% md\n"
        },
        "id": "rZYaNyD2FpiL"
      },
      "source": [
        "# Filtracja bilateralna"
      ]
    },
    {
      "cell_type": "markdown",
      "source": [],
      "metadata": {
        "id": "GgH3xBf_GZAi"
      }
    },
    {
      "cell_type": "markdown",
      "source": [
        "## Konwolucja obrazu z filtrem o zadanych współczynnikach\n",
        "\n",
        "Splot (konwolucję) obrazu wejściowego $I$ z filtrem $\\psi$ dla ustalonego punktu obrazu $\\mathbf{x}$ można przedstawić następująco:\n",
        "\n",
        "\\begin{equation}\n",
        "\\hat{I}(\\mathbf{x}) = \\frac{1}{W_N}\\sum_{\\mathbf{p} \\in \\eta(\\mathbf{x})} \\psi(||\\mathbf{p}-\\mathbf{x}||)I(\\mathbf{p})\n",
        "\\end{equation}\n",
        "\n",
        "gdzie:\n",
        "- $\\hat{I}$ jest obrazem wynikowym (przefiltrowanym),\n",
        "- $W_N = \\sum_y \\psi(y)$ jest parametrem normalizującym współczynniki filtra $\\psi$,\n",
        "- $||\\cdot||$ jest odległością między punktami obrazu $\\mathbf{x}$ i $\\mathbf{p}$ według ustalonej metryki (np. norma $L_2$). Uwaga, proszę pamiętać, że zarówno $\\mathbf{x}$, jak i $\\mathbf{p}$ to współrzędne przestrzenne,\n",
        "- $\\eta(\\mathbf{x})$ jest otoczeniem punktu $\\mathbf{x}$.\n",
        "\n",
        "Funkcja $\\psi$ decyduje o charakterze filtracji. Dla filtru Gaussowskiego:\n",
        "\n",
        "\\begin{equation}\n",
        "\\psi(y) = G_{\\delta_s}(y)\n",
        "\\end{equation}\n",
        "\n",
        "gdzie: $G_{\\delta_s}(y)$ jest funkcją Gaussa z parametrem skali $\\delta_s$.\n",
        "\n",
        "Opisaną powyżej filtrację realizowaliśmy w ramach ćwiczenia \"Przetwarzanie wstępne. Filtracja kontekstowa.\""
      ],
      "metadata": {
        "collapsed": false,
        "pycharm": {
          "name": "#%% md\n"
        },
        "id": "dLH690bzFpiS"
      }
    },
    {
      "cell_type": "markdown",
      "source": [
        "## Filtracja bilateralna\n",
        "\n",
        "Wadą klasycznego splotu jest brak adaptacji współczynników filtra do lokalnego otoczenia $\\eta(\\mathbf{x})$ filtrowanego punktu $\\mathbf{x}$.\n",
        "Oznacza to wykorzystanie tych samych współczynników filtra $\\psi$ niezależnie od tego czy otoczenie jest względnie jednorodne lub zawiera krawędzie obiektów (w tym przypadku dochodzi do \"rozmywania\" krawędzi).\n",
        "Filtracja bilateralna uwzględnia lokalne otoczenie filtrowanego punktu, w ten sposób, że parametry filtra zmieniają się w zależności od \"wyglądu\" otocznia.\n",
        "\n",
        "\n",
        "Współczynniki filtra obliczane są na podstawie odległości filtrowanego punktu $\\mathbf{x}$ od każdego punktu otoczenia $\\mathbf{p}$ w dziedzinie przestrzennej obrazu (tak jak przy typowym filtrze np. Gaussa) oraz odległości punktów w przeciwdziedzinie obrazu (np. na podstawie różnicy w jasności pikseli dla obrazu w odcieniach szarości):\n",
        "\n",
        "\\begin{equation}\n",
        "\\hat{I}(\\mathbf{x}) = \\frac{1}{W_N}\\sum_{\\mathbf{p} \\in \\eta(\\mathbf{x})} \\psi(||\\mathbf{p}-\\mathbf{x}||) \\gamma(|I(\\mathbf{p}) - I(\\mathbf{x})|) I(\\mathbf{p})\n",
        "\\end{equation}\n",
        "gdzie:\n",
        "- $W_N$ jest współczynnikiem normalizującym filtr,\n",
        "- $\\gamma$ jest funkcją odległości w przeciwdziedzinie obrazu, np. $\\gamma(y)=\\exp(-\\frac{y^2}{2\\delta_r^2})$\n",
        "- parametr $\\delta_r$ jest utożsamiany z poziomem szumu w obrazie i należy go dobrać w sposób empiryczny.\n",
        "\n",
        "Proszę chwilę zastanowić się nad powyższym równaniem, w szczególności nad funkcją $\\gamma$. Proszę wyznaczyć, jaka będzie wartość funkcji dla pikseli podobnych (różnica 0, 1, 2), a skrajnie różnych (255, 200).\n",
        "\n",
        "##  Realizacja ćwiczenia\n",
        "\n",
        "### Wczytanie danych\n",
        "\n",
        "1. Wczytaj dane z pliku *MR_data.mat*. W tym celu wykorzystaj funkcję `loadmat` z pakietu scipy:\n",
        "        from scipy.io import loadmat\n",
        "        mat = loadmat('MR_data.mat')\n",
        "\n",
        "2. Wczytany plik zawiera 5 obrazów: *I_noisefree*, *I_noisy1*, *I_noisy2*, *I_noisy3* oraz *I_noisy4*. Odczytać je można w następujący sposób:\n",
        "        Input = mat['I_noisy1']\n",
        "\n",
        "3.Wyświetl wybrany obraz z pliku *MR_data.mat*. Zagadka - co to za obrazowanie medyczne?"
      ],
      "metadata": {
        "collapsed": false,
        "pycharm": {
          "name": "#%% md\n"
        },
        "id": "y-c-Phd8FpiU"
      }
    },
    {
      "cell_type": "code",
      "execution_count": null,
      "outputs": [],
      "source": [
        "import cv2\n",
        "import os\n",
        "import requests\n",
        "from matplotlib import pyplot as plt\n",
        "import numpy as np\n",
        "from scipy import signal\n",
        "from scipy.io import loadmat\n",
        "import math\n",
        "\n",
        "url = 'https://raw.githubusercontent.com/vision-agh/poc_sw/master/07_Bilateral/'\n",
        "\n",
        "fileNames = [\"MR_data.mat\"]\n",
        "for fileName in fileNames:\n",
        "  if not os.path.exists(fileName):\n",
        "      r = requests.get(url + fileName, allow_redirects=True)\n",
        "      open(fileName, 'wb').write(r.content)\n",
        "\n",
        "#TODO Samodzielna\n",
        "\n"
      ],
      "metadata": {
        "pycharm": {
          "name": "#%% Zadanie 1 - wyświetlanie\n"
        },
        "id": "hvi5AJiGFpiV"
      }
    },
    {
      "cell_type": "code",
      "source": [
        "from scipy.io import loadmat\n",
        "mat = loadmat('MR_data.mat')"
      ],
      "metadata": {
        "id": "GMcJfjb7bgDn"
      },
      "execution_count": null,
      "outputs": []
    },
    {
      "cell_type": "code",
      "source": [
        "I1 = mat['I_noisy1']\n",
        "I2 = mat['I_noisy2']\n",
        "I3 = mat['I_noisy3']\n",
        "I4 = mat['I_noisy4']\n",
        "I5 = mat['I_noisefree']"
      ],
      "metadata": {
        "id": "_Z6SqdygbiTU"
      },
      "execution_count": null,
      "outputs": []
    },
    {
      "cell_type": "code",
      "source": [
        "fig,axs = plt.subplots(1,5)\n",
        "fig.set_size_inches(20, 10)\n",
        "axs[0].imshow(I1)\n",
        "axs[0].axis('off')\n",
        "axs[1].imshow(I2)\n",
        "axs[1].axis('off')\n",
        "axs[2].imshow(I3)\n",
        "axs[2].axis('off')\n",
        "axs[3].imshow(I4)\n",
        "axs[3].axis('off')\n",
        "axs[4].imshow(I5)\n",
        "axs[4].axis('off')"
      ],
      "metadata": {
        "id": "td1HiSVCbok5"
      },
      "execution_count": null,
      "outputs": []
    },
    {
      "cell_type": "markdown",
      "source": [
        "### \"Klasyczna\" konwolucja\n",
        "\n",
        "1. Zdefiniuj parametry filtra Gaussowskiego: rozmiar okna i wariancję $\\delta_S$.\n",
        "2. Oblicz współczynniki filtra na podstawie zdefiniowanych parametrów (najprościej w ramach podwójnej pętli for).\n",
        "2. Sprawdź ich poprawność i zwizualizuj filtr (tak jak w ćwiczeniu pt. \"Przetwarzanie wstępne. Filtracja kontekstowa.\").\n",
        "3. Wykonaj kopię obrazu wejściowego: `IConv = Input.copy()`\n",
        "4. Wykonaj podwójną pętlę po obrazie. Pomiń ramkę, dla której nie jest zdefiniowany kontekst o wybranej wielkości.\n",
        "5. W każdej iteracji stwórz dwuwymiarową tablicę zawierającą aktualny kontekst.\n",
        "6. Napisz funkcję, która będzie obliczała nową wartość piksela.\n",
        "Argumentem tej funkcji są aktualnie przetwarzane okno i współczynniki filtra.\n",
        "7. Obliczoną wartość przypisz do odpowiedniego piksela kopii obrazu wejściowego.\n",
        "8. Wyświetl wynik filtracji.\n",
        "9. Porównaj wynik z obrazem oryginalnym."
      ],
      "metadata": {
        "collapsed": false,
        "pycharm": {
          "name": "#%% md\n"
        },
        "id": "b2dsan_AFpiX"
      }
    },
    {
      "cell_type": "code",
      "execution_count": null,
      "outputs": [],
      "source": [
        "#TODO Samodzielna\n",
        "def fgaussian(size, sigma):\n",
        "     m = n = size\n",
        "     h, k = m//2, n//2\n",
        "     x, y = np.mgrid[-h:h+1, -k:k+1]\n",
        "     g = np.exp(-(x**2 + y**2)/(2*sigma**2))\n",
        "     return g /g.sum() \n",
        "    \n",
        "    \n",
        "def mesh(fun, size):\n",
        "    fig = plt.figure()\n",
        "    ax = fig.gca(projection='3d')\n",
        "    \n",
        "\n",
        "    X = np.arange(-size//2, size//2, 1)\n",
        "    Y = np.arange(-size//2, size//2, 1)\n",
        "    X, Y = np.meshgrid(X, Y)\n",
        "    Z = fun\n",
        "    \n",
        "    ax.plot_surface(X, Y, Z)\n",
        "    \n",
        "    plt.show()\n",
        "    "
      ],
      "metadata": {
        "pycharm": {
          "name": "#%% Zadanie 2 - konwolucja\n"
        },
        "id": "EL5qWflAFpiY"
      }
    },
    {
      "cell_type": "code",
      "source": [
        "mask = fgaussian(3,0.9)\n",
        "mesh(mask,3)"
      ],
      "metadata": {
        "id": "4QLktWJtiXeh"
      },
      "execution_count": null,
      "outputs": []
    },
    {
      "cell_type": "code",
      "source": [
        "def classic(window,x,sigma):\n",
        "  X,Y = window.shape\n",
        "  mask = fgaussian(x,sigma)\n",
        "  \n",
        "  s = 0\n",
        "\n",
        "  for i in range(X):\n",
        "    for j in range(Y):\n",
        "      s += window[i,j]*mask[i,j]\n",
        "  return (1/ mask.sum()) *s\n",
        "\n",
        "\n",
        "\n",
        "def fun(I,paddingX,paddingY):\n",
        "  I1c = I.copy()\n",
        "  X,Y = I1c.shape\n",
        "  dst = I1c.copy()\n",
        "  for i in range(paddingX,X-paddingX):\n",
        "    for j in range(paddingY,Y-paddingY):\n",
        "      ctx = I1c[i-(paddingX):i+(paddingX)+1,j-(paddingY):j+(paddingY)+1]\n",
        "      dst[i,j] = classic(ctx,paddingX*2 +1,1)\n",
        "\n",
        "  return dst\n"
      ],
      "metadata": {
        "id": "oMgALoCLjURD"
      },
      "execution_count": null,
      "outputs": []
    },
    {
      "cell_type": "code",
      "source": [
        "dst1 = fun(I1,1,1)\n",
        "dst2 = fun(I2,1,1)\n",
        "dst3 = fun(I3,1,1)\n",
        "dst4 = fun(I4,1,1)\n",
        "dst5 = fun(I5,1,1)"
      ],
      "metadata": {
        "id": "t8PXIS1DJS90"
      },
      "execution_count": null,
      "outputs": []
    },
    {
      "cell_type": "code",
      "source": [
        "fig, axs = plt.subplots(5, 2)\n",
        "fig.set_size_inches(20, 30)\n",
        "axs[0,0].imshow(I1,'gray')\n",
        "axs[0,0].axis('off')\n",
        "axs[0,1].imshow(dst1,'gray')\n",
        "axs[0,1].axis('off')\n",
        "axs[1,0].imshow(I2,'gray')\n",
        "axs[1,0].axis('off')\n",
        "axs[1,1].imshow(dst2,'gray')\n",
        "axs[1,1].axis('off')\n",
        "axs[2,0].imshow(I3,'gray')\n",
        "axs[2,0].axis('off')\n",
        "axs[2,1].imshow(dst3,'gray')\n",
        "axs[2,1].axis('off')\n",
        "axs[3,0].imshow(I4,'gray')\n",
        "axs[3,0].axis('off')\n",
        "axs[3,1].imshow(dst4,'gray')\n",
        "axs[3,1].axis('off')\n",
        "axs[4,0].imshow(I5,'gray')\n",
        "axs[4,0].axis('off')\n",
        "axs[4,1].imshow(dst5,'gray')\n",
        "axs[4,1].axis('off')"
      ],
      "metadata": {
        "id": "WMtaAWTztaHz"
      },
      "execution_count": null,
      "outputs": []
    },
    {
      "cell_type": "markdown",
      "source": [
        "### Filtracja bilateralna\n",
        "\n",
        "1. Zdefiniuj dodatkowy parametr: wariancję $\\delta_R$.\n",
        "3. Wykonaj kopię obrazu wejściowego: `IBilateral = Input.copy()`\n",
        "4. Wykonaj podwójną pętlę po obrazie. Pomiń ramkę, dla której nie jest zdefiniowany kontekst o wybranej wielkości.\n",
        "5. W każdej iteracji stwórz dwuwymiarową tablicę zawierającą aktualny kontekst.\n",
        "6. Napisz funkcję, która będzie obliczała nową wartość piksela.\n",
        "Argumentami funkcji są aktualnie przetwarzane okno, współczynniki filtra gausowskiego (takie same jak wcześniej) i wariancja $\\delta_R$.\n",
        "7. Oblicz odległość w przeciwdziedzinie (dla wartości pikseli).\n",
        "8. Oblicz funkcję Gaussa dla obliczonych odległości z zadanym parametrem.\n",
        "9. Wykonaj normalizację obliczonych współczynników.\n",
        "10. Obliczoną wartość przypisz do odpowiedniego piksela kopii obrazu wejściowego.\n",
        "11. Wyświetl wynik filtracji.\n",
        "12. Porównaj wynik z obrazem oryginalnym."
      ],
      "metadata": {
        "collapsed": false,
        "pycharm": {
          "name": "#%% md\n"
        },
        "id": "0mp0PQrdFpiZ"
      }
    },
    {
      "cell_type": "code",
      "execution_count": null,
      "outputs": [],
      "source": [
        "def wariance(war,window):\n",
        "  p = window[0,0]\n",
        "  x = window[window.shape[0]-1,window.shape[1]-1]\n",
        "  n = (p-x)*(p-x)\n",
        "  m = 2*war*war\n",
        "  l = np.exp(-(n)/(m))\n",
        "  return l\n",
        "  \n",
        "def classicv2(window,x,sigma,var):\n",
        "  X,Y = window.shape\n",
        "  mask = fgaussian(x,sigma)\n",
        "  center = window[X // 2, Y // 2]\n",
        "  \n",
        "  s = 0\n",
        "  G = out = 0\n",
        "\n",
        "\n",
        "  for i in range(X):\n",
        "    for j in range(Y):\n",
        "      p = window[0,0]\n",
        "      x = window[window.shape[0]-1,window.shape[1]-1]\n",
        "      n = (p-x)*(p-x)\n",
        "      m = 2*var*var\n",
        "      gamma = np.exp(-(n)/(m))\n",
        "      G += mask[i, j] * gamma\n",
        "      out += mask[i, j] * gamma * window[i, j]\n",
        "      s += window[i,j]*mask[i,j]\n",
        "  return 1 / G * out\n",
        "\n",
        "\n",
        "\n",
        "def fun2(I,paddingX,paddingY,war):\n",
        "  I1c = I.copy()\n",
        "  X,Y = I1c.shape\n",
        "  dst = I1c.copy()\n",
        "  for i in range(paddingX,X-paddingX):\n",
        "    for j in range(paddingY,Y-paddingY):\n",
        "      ctx = I1c[i-(paddingX):i+(paddingX)+1,j-(paddingY):j+(paddingY)+1]\n",
        "      #dst[i,j] = classic(ctx,paddingX*2 +1,1) * wariance(war,ctx)\n",
        "      dst[i,j] = classicv2(ctx,paddingX*2+1,1,war)\n",
        "\n",
        "  return dst"
      ],
      "metadata": {
        "pycharm": {
          "name": "#%%\n"
        },
        "id": "GUyUvRh2Fpia"
      }
    },
    {
      "cell_type": "code",
      "source": [
        "dst1 = fun2(I1,2,2,250)\n",
        "dst2 = fun2(I2,2,2,250)\n",
        "dst3 = fun2(I3,2,2,1000)\n",
        "dst4 = fun2(I4,2,2,1000)\n",
        "dst5 = fun2(I5,2,2,250)\n"
      ],
      "metadata": {
        "id": "U0kFklSx0qgI"
      },
      "execution_count": null,
      "outputs": []
    },
    {
      "cell_type": "code",
      "source": [
        "fig, axs = plt.subplots(5, 2)\n",
        "fig.set_size_inches(20, 30)\n",
        "axs[0,0].imshow(I1,'gray')\n",
        "axs[0,0].axis('off')\n",
        "axs[0,1].imshow(dst1,'gray')\n",
        "axs[0,1].axis('off')\n",
        "axs[1,0].imshow(I2,'gray')\n",
        "axs[1,0].axis('off')\n",
        "axs[1,1].imshow(dst2,'gray')\n",
        "axs[1,1].axis('off')\n",
        "axs[2,0].imshow(I3,'gray')\n",
        "axs[2,0].axis('off')\n",
        "axs[2,1].imshow(dst3,'gray')\n",
        "axs[2,1].axis('off')\n",
        "axs[3,0].imshow(I4,'gray')\n",
        "axs[3,0].axis('off')\n",
        "axs[3,1].imshow(dst4,'gray')\n",
        "axs[3,1].axis('off')\n",
        "axs[4,0].imshow(I5,'gray')\n",
        "axs[4,0].axis('off')\n",
        "axs[4,1].imshow(dst5,'gray')\n",
        "axs[4,1].axis('off')"
      ],
      "metadata": {
        "id": "BEgyIPcZ2fb1"
      },
      "execution_count": null,
      "outputs": []
    }
  ],
  "metadata": {
    "kernelspec": {
      "display_name": "Python 3",
      "language": "python",
      "name": "python3"
    },
    "language_info": {
      "codemirror_mode": {
        "name": "ipython",
        "version": 3
      },
      "file_extension": ".py",
      "mimetype": "text/x-python",
      "name": "python",
      "nbconvert_exporter": "python",
      "pygments_lexer": "ipython3",
      "version": "3.8.3"
    },
    "colab": {
      "provenance": [],
      "toc_visible": true
    }
  },
  "nbformat": 4,
  "nbformat_minor": 0
}