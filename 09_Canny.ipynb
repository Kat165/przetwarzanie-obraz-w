{
  "cells": [
    {
      "cell_type": "markdown",
      "metadata": {
        "pycharm": {
          "name": "#%% md\n"
        },
        "id": "nIlLDillv0PY"
      },
      "source": [
        "# Detekcja krawędzi"
      ]
    },
    {
      "cell_type": "markdown",
      "source": [
        "## Cel ćwiczenia\n",
        "\n",
        "- Zapoznanie z metodami detekcji krawędzi:\n",
        "    - Sobel, Prewitt, Roberts - przypomnienie,\n",
        "    - Laplasjan z Gaussa (LoG – ang. Laplacian of Gaussian),\n",
        "    - Canny.\n",
        "\n",
        "Detekcja krawędzi przez wiele lat była podstawą algorytmów segmentacji.\n",
        "Krawędzie wykrywane są najczęściej z wykorzystaniem pierwszej (gradient) i drugiej (Laplasjan) pochodnej przestrzennej.\n",
        "Wykorzystanie obu metod zaprezentowane zostało w ćwiczeniu *Przetwarzanie wstępne. Filtracja kontekstowa*.\n",
        "\n",
        "W niniejszym ćwiczeniu poznane detektory krawędzi zostaną porównane z bardziej zaawansowanymi: Laplasjan z funkcji Gaussa (LoG), Zero Crossing i Canny."
      ],
      "metadata": {
        "collapsed": false,
        "pycharm": {
          "name": "#%% md\n"
        },
        "id": "lYvfAdWLv0Pa"
      }
    },
    {
      "cell_type": "markdown",
      "source": [
        "## Laplasjan z Gaussa (LoG)\n",
        "\n",
        "Funkcja Gaussa:<br>\n",
        "\\begin{equation}\n",
        "h(r) = e^{\\frac{-r^2}{2 \\sigma^2}}\n",
        "\\end{equation}<br>\n",
        "gdzie:\n",
        "- $r^2 = x^2 + y^2$\n",
        "- $\\sigma$ to odchylenie standardowe.\n",
        "\n",
        "Działanie filtracji Gaussowskiej zostało przedstawione w ćwiczeniu \"Przetwarzanie wstępne\". W jej wyniku następuje rozmazanie obrazu.\n",
        "Laplasjan tej funkcji dany jest wzorem:\n",
        "\n",
        "\\begin{equation}\n",
        "\\nabla^2 h(r) = \\frac{r^2 - 2\\sigma^2}{\\sigma^4} e^{-\\frac{r^2}{2\\sigma^2}}\n",
        "\\end{equation}\n",
        "\n",
        "Funkcję (z oczywistych powodów) nazywamy Laplasjan z Gaussa (LoG).\n",
        "Ponieważ druga pochodna jest operacją liniową, konwolucja obrazu z $\\nabla^2 h(r)$ daje taki sam efekt jak zastosowanie filtracji Gaussa na obrazie, a następnie obliczenie Laplasjanu z wyniku.\n",
        "Lokalizacja krawędzi polega na znalezieniu miejsca, gdzie po filtracji LoG następuje zmiana znaku.\n",
        "\n",
        "1. Wczytaj obraz *house.png*.\n",
        "2. Wykonaj rozmycie Gaussowskie obrazu wejściowego.\n",
        "W tym celu wykorzysaj funkcję `cv2.GaussianBlur(img, kSize, sigma)`.\n",
        "Pierwszy argument jest obrazem wejśćiowym.\n",
        "Drugi jest rozmiarem filtru (podanym w nawiasach okrągłych, np. *(3, 3)*).\n",
        "Trzecim argumentem jest odchylenie standardowe. Wartość jest dobrana automatycznie, jeśli zosanie podana wartość `0` (będą równe rozmiarowi).\n",
        "3. Oblicz laplasjan obrazu rozmytego.\n",
        "W tym celu wykorzysaj funkcję `cv2.Laplacian(img, ddepth)`.\n",
        "Pierszym argumentem jest obraz wejściowy.\n",
        "Drugim argumentem jest typ danych wejściowych. Użyj `cv2.CV_32F`.\n",
        "4. Wyznacz miejsca zmiany znaku.\n",
        "Zaimplementuj funkcję `crossing(LoG, thr)`:\n",
        "    - Najpierw stwórz tablicę, do której zostanie zapisany wynik.\n",
        "    Jej rozmiar jest taki sam jak przetwarzanego obrazu.\n",
        "    - Następnie wykonaj pętle po obrazie (bez ramki jednopikselowej).\n",
        "    W każdej iteracji stwórz otoczenie o rozmiarze $3 \\times 3$.\n",
        "    Dla otoczenia oblicz wartość maksymalną i minimalną.\n",
        "    - Jeśli wartości te mają przeciwne znaki, to do danego miejsca tablicy przypisz wartość:\n",
        "        - jeśli piksel wejściowy > 0, to dodaj do niego wartość bezwzględną minimum.\n",
        "        - jeśli piksel wejściowy < 0, to do jego wartości bezwzględnej dodaj maksimum.\n",
        "    - Zmień zakres wykonanej tablicy do $<0, 255>$.\n",
        "    - Wykonaj progowanie tablicy. Próg jest argumentem wejściowym.\n",
        "    - Przeskaluj dane binarne do wartości `[0, 255]`.\n",
        "    - Wykonaj konwersję do typu *uint8*.\n",
        "    - Wykonaj rozmycie medianowe wyniku.\n",
        "    Wykorzystaj funkcję `cv2.medianBlur(img, kSize)`.\n",
        "    Pierwszym argumentem jest obraz wejśćiowy, a drugim rozmiar filtra.\n",
        "    - Zwróć wyznaczoną tablicę.\n",
        "5. Wyświetl obraz wynikowy.\n",
        "6. Dobierz parametry (rozmiar filtru Gaussa, odchylenie standardowe, próg binaryzacji) tak, by widoczne były kontury domu, ale nie dachówki."
      ],
      "metadata": {
        "collapsed": false,
        "pycharm": {
          "name": "#%% md\n"
        },
        "id": "d_Ed3X1sv0Pb"
      }
    },
    {
      "cell_type": "code",
      "source": [
        "import cv2\n",
        "from matplotlib import pyplot as plt\n",
        "import numpy as np\n",
        "import math\n",
        "import os\n",
        "import requests\n",
        "\n",
        "url = 'https://raw.githubusercontent.com/vision-agh/poc_sw/master/09_Canny/'\n",
        "\n",
        "fileNames = [\"dom.png\"]\n",
        "for fileName in fileNames:\n",
        "  if not os.path.exists(fileName):\n",
        "      r = requests.get(url + fileName, allow_redirects=True)\n",
        "      open(fileName, 'wb').write(r.content)\n",
        "\n"
      ],
      "metadata": {
        "pycharm": {
          "name": "#%% Zadanie 1 - LoG\n"
        },
        "id": "y8eBaynov0Pc"
      },
      "execution_count": null,
      "outputs": []
    },
    {
      "cell_type": "code",
      "source": [
        "dom = cv2.imread('dom.png', cv2.IMREAD_GRAYSCALE)\n",
        "plt.imshow(dom,'gray')"
      ],
      "metadata": {
        "id": "i5ThK-gmoOEV"
      },
      "execution_count": null,
      "outputs": []
    },
    {
      "cell_type": "code",
      "source": [
        "def crossing(LoG, thr):\n",
        "  X, Y = LoG.shape\n",
        "  dst = np.zeros_like(LoG)\n",
        "  size = 3\n",
        "  #for j in range(1,X-size):\n",
        "  #  for i in range(1,Y-size):\n",
        "  #    window = LoG[j:j+size,i:i+size]\n",
        "  #    min = np.min(window)\n",
        "  #    max = np.max(window)\n",
        "  #    if min * max < 0:\n",
        "  #      if LoG[j,i] > 0:\n",
        "  #        dst[j,i] += np.abs(min)\n",
        "  #      elif LoG[j,i] < 0:\n",
        "  #        dst[j,i] += np.abs(max)\n",
        "  #dst = dst / dst.max() * 255.0\n",
        "  #binarized = (dst > thr).astype(np.int64) * 255\n",
        "  #binarized_uint8 = binarized.astype('uint8')\n",
        "  #median_blur = cv2.medianBlur(binarized_uint8, 3)\n",
        "  #dom = np.interp(dom, (dom.min(), dom.max()), (0, 255))\n",
        "  #dst = (dst/dst.max())*255 \n",
        "  #dst = cv2.normalize(dst, None, 0, 255, cv2.NORM_MINMAX)\n",
        "  #dom_bin = (dst > thr).astype(np.uint8) * 255\n",
        "  #dom_bin_norm = cv2.normalize(dom_bin, None, 0, 255, cv2.NORM_MINMAX)\n",
        "  #dom_bin_norm = np.interp(dom_bin, (dom_bin.min(), dom_bin.max()), (0, 255))\n",
        "  #dom_uint8 = dom_bin.astype(np.uint8)\n",
        "  #dom_blur = cv2.medianBlur(dom_uint8, size)\n",
        "\n",
        "  for j in range(1,X-3):\n",
        "    for i in range(1,Y-3):\n",
        "      window = LoG[j:j+size,i:i+size]\n",
        "      min = np.min(window)\n",
        "      max = np.max(window)\n",
        "      if min * max < 0:\n",
        "        if LoG[j,i] > 0:\n",
        "          dst[j,i] += np.abs(min)\n",
        "        elif LoG[j,i] < 0:\n",
        "          dst[j,i] += np.abs(max)\n",
        "  dst = dst / dst.max() * 255.0\n",
        "  binarized = (dst > thr).astype(np.int64) * 255\n",
        "  binarized_uint8 = binarized.astype('uint8')\n",
        "  median_blur = cv2.medianBlur(binarized_uint8, 3)\n",
        "\n",
        "\n",
        "  return median_blur\n"
      ],
      "metadata": {
        "id": "h20al50solzt"
      },
      "execution_count": null,
      "outputs": []
    },
    {
      "cell_type": "code",
      "source": [
        "dom = cv2.GaussianBlur(dom, (3,3), 0)\n",
        "dom = cv2.Laplacian(dom, cv2.CV_32F)\n",
        "x = crossing(dom,75)\n",
        "\n",
        "#print(x.shape)\n",
        "plt.imshow(x,'gray')"
      ],
      "metadata": {
        "id": "M_wIUZmWoVpK"
      },
      "execution_count": null,
      "outputs": []
    },
    {
      "cell_type": "markdown",
      "source": [
        "## Algorytm Canny'ego\n",
        "\n",
        "> Algorytm Canny'ego to często wykorzystywana metoda detekcji krawędzi.\n",
        "> Zaproponowana została w 1986r. przez Johna F. Cannego.\n",
        "> Przy jego projektowaniu założono trzy cele:\n",
        "> - niska liczba błędów - algorytm powinien znajdywać wszystkie krawędzie oraz generować jak najmniej fałszywych detekcji,\n",
        "> - punkty krawędziowe powinny być poprawnie lokalizowane - wykryte punkty powinny być jak najbardziej zbliżone do rzeczywistych,\n",
        "> - krawędzie o szerokości 1 piksela - algorytm powinien zwrócić jeden punkt dla każdej rzeczywistej krawędzi.\n",
        "\n",
        "Zaimplementuj algorytm detekcji krawędziCanny'ego:\n",
        "1. W pierwszym kroku obraz przefiltruj dwuwymiarowym filtrem Gaussa.\n",
        "2. Następnie oblicz gradient pionowy i poziomy ($g_x $ i $g_y$).\n",
        "Jedną z metod jest filtracja Sobela.\n",
        "3. Dalej oblicz amplitudę:\n",
        "$M(x,y)  = \\sqrt{g_x^2+g_y^2}$ oraz kąt:\n",
        "$\\alpha(x,y) = arctan(\\frac{g_y}{g_x})$.\n",
        "Do obliczenia kąta wykorzystaj funkcję `np.arctan2(x1, x2)`.\n",
        "Wynik jest w radianach.\n",
        "4. W kolejnym etapie wykonaj kwantyzację kątów gradientu.\n",
        "Kąty od $-180^\\circ$ do $180^\\circ$ można podzielić na 8 przedziałów:\n",
        "[$-22.5^\\circ, 22.5^\\circ$], [$22.5^\\circ, 67.5^\\circ$],\n",
        "[$67.5^\\circ, 112.5^\\circ$], [$112.5^\\circ, 157.5^\\circ$],\n",
        "[$157.5^\\circ, -157.5^\\circ$], [$-157.5^\\circ, -112.5^\\circ$],\n",
        "[$-112.5^\\circ, -67.5^\\circ$], [$-67.5^\\circ, -22.5^\\circ$].\n",
        "Przy czym należy rozpatrywać tylko 4 kierunki:\n",
        "    - pionowy ($d_1$),\n",
        "    - poziomy ($d_2$),\n",
        "    - skośny lewy ($d_3$),\n",
        "    - skośny prawy ($d_4$).\n",
        "5. Dalej przeprowadź eliminację pikseli, które nie mają wartości maksymalnej (ang. *nonmaximal suppresion*).\n",
        "Celem tej operacji jest redukcja szerokości krawędzi do rozmiaru 1 piksela.\n",
        "Algorytm przebiega następująco.\n",
        "W rozpatrywanym otoczeniu o rozmiarze $3 \\times 3$:\n",
        "    - określ do którego przedziału należy kierunek gradientu piksela centralnego ($d_1, d_2, d_3, d_4$).\n",
        "    - przeanalizuje sąsiadów leżących na tym kierunku.\n",
        "Jeśli choć jeden z nich ma amplitudę większą niż piksel centralny, to należy uznać, że nie jest lokalnym maksimum i do wyniku przypisać $g_N(x,y) = 0$.\n",
        "W przeciwnym przypadku $g_N(x,y) = M(x,y)$.\n",
        "Przez $g_N$ rozumiemy obraz detekcji lokalnych maksimów.\n",
        "Zaimplementuj funkcję `nonmax`.\n",
        "Pierwszym argementem jest macierz kierunków (po kwantyzacji).\n",
        "Drugim argumentem jest macierz amplitudy.\n",
        "6. Ostatnią operacją jest binaryzacja obrazu $g_N$.\n",
        "Stosuje się tutaj tzw. binaryzację z histerezą.\n",
        "Wykorzystuje się w niej dwa progi: $T_L$ i $T_H$, przy czym $T_L < T_H$.\n",
        "Canny zaproponował, aby stosunek progu wyższego do niższego był jak 3 lub 2 do 1.\n",
        "Rezultaty binaryzacji można opisać jako:<br>\n",
        "$g_{NH}(x,y) = g_N(x,y) \\geq TH $<br>\n",
        "$g_{NL}(x,y) = TH > g_N(x,y) \\geq TL $<br>\n",
        "Można powiedzieć, że na obrazie $g_{NH}$ są \"pewne\" krawędzie.\n",
        "Natomiast na $g_{NL}$ \"potencjalne\".\n",
        "Często krawędzie \"pewne\" nie są ciągłe.\n",
        "Dlatego wykorzystuje się obraz $g_{NL}$ w następującej procedurze:\n",
        "    - Stwórz stos zawierający wszystkie piksele zaznaczone na obrazie $g_{NH}$.\n",
        "W tym celu wykorzystaj listę współrzędnych `[row, col]`.\n",
        "Do pobrania elementu z początku służy metoda `list.pop()`.\n",
        "Do dodania elementu na koniec listy służy metoda `list.append(new)`.\n",
        "    - Stwórz obraz, który będzie zawierał informację czy dany piksel został już odwiedzony.\n",
        "    - Stwórz obraz, któy zawierać będzie wynikowe krawędzie.\n",
        "Jej rozmiar jest równy rozmiarowi obrazu.\n",
        "    - Wykonaj pętlę, która będzie pobierać elementy z listy, dopóki ta nie będzie pusta.\n",
        "W tym celu najlepiej sprawdzi się pętla `while`.\n",
        "    - W każdej iteracji pobierz element ze stosu.\n",
        "    - Sprawdź czy dany element został już odwiedzony.\n",
        "    - Jeśli nie został, to:\n",
        "        - Oznacz go jako odwiedzony,\n",
        "        - Oznacz piksel jako krawędź w wyniku,\n",
        "        - Sprawdź otoczenie piksela w obrazie $g_{NL}$,\n",
        "        - Dodaj do stosu współrzędne otoczenia, które zawierają krawędź (potencjalną).\n",
        "        Można to wykoanać np. pętlą po stworzonym otoczeniu.\n",
        "7. Wyświetl obraz oryginalny, obraz $g_{NH}$ oraz obraz wynikowy.\n",
        "\n",
        "Pomocnicze obrazy $g_{NH}$ i $g_{NL}$ zostały wprowadzone dla uproszczenia opisu.\n",
        "Algorytm można zaimplementować wbardziej \"zwarty\" sposób.\n",
        "\n",
        "Na podstawie powyższego opisu zaimplementuj algorytm Cannego."
      ],
      "metadata": {
        "collapsed": false,
        "pycharm": {
          "name": "#%% md\n"
        },
        "id": "0kNxMqdsv0Pd"
      }
    },
    {
      "cell_type": "code",
      "execution_count": null,
      "outputs": [],
      "source": [
        "dom = cv2.imread('dom.png', cv2.IMREAD_GRAYSCALE)\n",
        "dom_gauss = cv2.GaussianBlur(dom, (3,3), 0) \n",
        "gx = cv2.Sobel(dom_gauss,cv2.CV_32F,1,0,ksize=3)\n",
        "gy = cv2.Sobel(dom_gauss,cv2.CV_32F,0,1,ksize=3)\n",
        "Mxy = np.sqrt((gx*gx)+(gy*gy))\n",
        "axy = np.arctan2(gx, gy) * 180 / np.pi\n",
        "x,y = axy.shape\n",
        "directions = np.zeros_like(axy)\n",
        "for i in range(x):\n",
        "  for j in range(y):\n",
        "    if axy[i,j] < 0:\n",
        "      axy[i,j] += 180\n",
        "    if axy[i,j] >= 67.5 and axy[i,j] < 112.5:\n",
        "      direct =  1\n",
        "    if (axy[i,j] >= 0 and axy[i,j] < 22.5) or (axy[i,j] <= 180 and axy[i,j] > 157.5):\n",
        "      direct =  2\n",
        "    if axy[i,j] >= 112.5 and axy[i,j] < 157.5:\n",
        "      direct =  3\n",
        "    if axy[i,j] >= 22.5 and axy[i,j] < 67.5:\n",
        "      direct =  4\n",
        "    directions[i,j] = direct\n",
        "\n",
        "\n",
        "\n",
        "alfas = np.zeros_like(axy)\n",
        "for i in range(x):\n",
        "  for j in range(y):\n",
        "    alfas[i,j] = directions[i,j]\n",
        "\n",
        "Y,X = Mxy.shape[0], Mxy.shape[1]\n",
        "GN = np.zeros_like(Mxy)\n",
        "size = 3\n",
        "for j in range(Y-size+1):\n",
        "  for i in range(X-size+1):\n",
        "    pixel_direction = directions[j+1,i+1]\n",
        "    neighbours = []\n",
        "    if pixel_direction == 1:\n",
        "      if Mxy[j,i+1] > Mxy[j+1,i+1] or Mxy[j+2,i+1] > Mxy[j+1,i+1]:\n",
        "        GN[j,i] = 0\n",
        "      else:\n",
        "        GN[j,i] = Mxy[j+1,i+1]\n",
        "    elif pixel_direction == 2:\n",
        "      if Mxy[j+1,i] > Mxy[j+1,i+1] or Mxy[j+1,i+2] > Mxy[j+1,i+1]:\n",
        "        GN[j,i] = 0\n",
        "      else:\n",
        "        GN[j,i] = Mxy[j+1,i+1]\n",
        "    elif pixel_direction == 3:\n",
        "      if Mxy[j,i] > Mxy[j+1,i+1] or Mxy[j+2,i+2] > Mxy[j+1,i+1]:\n",
        "        GN[j,i] = 0\n",
        "      else:\n",
        "        GN[j,i] = Mxy[j+1,i+1]\n",
        "    elif pixel_direction == 4:\n",
        "      if Mxy[j+2,i] > Mxy[j+1,i+1] or Mxy[j,i+2] > Mxy[j+1,i+1]:\n",
        "        GN[j,i] = 0\n",
        "      else:\n",
        "        GN[j,i] = Mxy[j+1,i+1]\n"
      ],
      "metadata": {
        "pycharm": {
          "name": "#%% Zadanie 2 - Canny\n"
        },
        "id": "9DhHA2uiv0Pe"
      }
    },
    {
      "cell_type": "code",
      "source": [
        "tl = 100\n",
        "th = 200\n",
        "size = 3\n",
        "\n",
        "X,Y = axy.shape\n",
        "\n",
        "gnh = (GN >= th).astype(np.int64) * 255\n",
        "gnl = np.zeros_like(axy)\n",
        "for i in range(X-1):\n",
        "  for j in range(Y-1):\n",
        "    if GN[i,j] >= tl and GN[i,j] < th:\n",
        "      gnl[i,j] = 255\n",
        "\n",
        "vis = np.zeros_like(axy)\n",
        "stack = []\n",
        "res = np.zeros_like(axy)\n",
        "\n",
        "for i in range(X):\n",
        "  for j in range(Y):\n",
        "    if gnh[i,j] == 255:\n",
        "      point = (i,j)\n",
        "      stack.append(point)\n",
        "\n",
        "while stack:\n",
        "  point = stack.pop()\n",
        "  if vis[point[0],point[1]] == 0:\n",
        "    vis[point[0],point[1]] = 1\n",
        "    res[point[0],point[1]] = 255\n",
        "\n",
        "    edges = []\n",
        "\n",
        "    y_d, y_g = point[0]-1, point[0]+1\n",
        "    x_l, x_p = point[1]-1, point[1]+1\n",
        "\n",
        "    if y_d < 0:\n",
        "      y_d = y_g\n",
        "  \n",
        "    if x_l < 0:\n",
        "      x_l = x_p\n",
        "  \n",
        "    if y_g > gnl.shape[0]:\n",
        "      y_g = y_d\n",
        "  \n",
        "    if x_p > gnl.shape[1]:\n",
        "      x_p = x_p\n",
        "\n",
        "    edges = []\n",
        "    for j in range(y_d,y_g+1):\n",
        "      for i in range(x_l,x_p+1):\n",
        "        if gnl[j,i] == 255:\n",
        "          point = (j,i)\n",
        "          edges.append(point)\n",
        "\n",
        "    for edge in edges:\n",
        "      stack.append(edge)"
      ],
      "metadata": {
        "id": "3aWrnK3fWZE9"
      },
      "execution_count": null,
      "outputs": []
    },
    {
      "cell_type": "code",
      "source": [
        "fig,ax = plt.subplots(1,3)\n",
        "fig.set_size_inches(30,20)\n",
        "ax[0].imshow(dom_gauss,'gray')\n",
        "ax[0].axis('off')\n",
        "ax[0].set_title(\"Original\")\n",
        "ax[1].imshow(gnh,'gray')\n",
        "ax[1].axis('off')\n",
        "ax[1].set_title(\"GNH\")\n",
        "ax[2].imshow(res,'gray')\n",
        "ax[2].axis('off')\n",
        "ax[2].set_title(\"Result\")"
      ],
      "metadata": {
        "id": "vysfb3uDaDy6"
      },
      "execution_count": null,
      "outputs": []
    },
    {
      "cell_type": "markdown",
      "source": [
        "## Algorytm Canny'ego - OpenCV\n",
        "\n",
        "1. Wykonaj dektekcję krawędzi metodą Canny'ego wykorzystując funkcję `cv2.Canny`.\n",
        "    - Pierwszym argumentem funkcji jest obraz wejściowy.\n",
        "    - Drugim argumentem jest mniejszy próg.\n",
        "    - Trzecim argumentem jest większy próg.\n",
        "    - Czwarty argument to tablica, do której wpisany zostanie wynik.\n",
        "    Można zwrócić go przez wartość i podać wartość `None`.\n",
        "    - Piąty argument to rozmiar operatora Sobela (w naszym przypadku 3).\n",
        "    - Szósty argument to rodzaj używanej normy.\n",
        "    0 oznacza normę $L_1$, 1 oznacza normę $L_2$. Użyj $L_2$.\n",
        "2. Wynik wyświetl i porównaj z własną implementacją."
      ],
      "metadata": {
        "collapsed": false,
        "pycharm": {
          "name": "#%% md\n"
        },
        "id": "zS_nhXbhv0Pe"
      }
    },
    {
      "cell_type": "code",
      "execution_count": null,
      "outputs": [],
      "source": [
        "dom = cv2.imread('dom.png', cv2.IMREAD_GRAYSCALE)\n",
        "dom_blur = cv2.GaussianBlur(dom, (3,3), 0)\n",
        "dst = cv2.Canny(dom_blur,100,200,None,3,1)\n",
        "\n",
        "plt.imshow(dom,'gray')\n",
        "plt.show()\n",
        "plt.imshow(dst,'gray')"
      ],
      "metadata": {
        "pycharm": {
          "name": "#%% Zadanie 3 - Canny opencv\n"
        },
        "id": "auxKObL-v0Pf"
      }
    }
  ],
  "metadata": {
    "kernelspec": {
      "display_name": "Python 3",
      "language": "python",
      "name": "python3"
    },
    "language_info": {
      "codemirror_mode": {
        "name": "ipython",
        "version": 3
      },
      "file_extension": ".py",
      "mimetype": "text/x-python",
      "name": "python",
      "nbconvert_exporter": "python",
      "pygments_lexer": "ipython3",
      "version": "3.8.3"
    },
    "colab": {
      "provenance": []
    }
  },
  "nbformat": 4,
  "nbformat_minor": 0
}