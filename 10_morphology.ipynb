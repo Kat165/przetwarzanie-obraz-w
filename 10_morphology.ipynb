{
  "cells": [
    {
      "cell_type": "markdown",
      "metadata": {
        "id": "NnDX1AhkKHGr"
      },
      "source": [
        "# Przekształcenia morfologiczne\n",
        "\n",
        "## Cel:\n",
        "- zapoznanie z podstawowymi przekształceniami morfologicznymi – erozją, dylatacją, otwarciem, zamknięciem, transformacją trafi, nie trafi,\n",
        "- zapoznanie ze złożonymi operacjami morfologicznymi wykorzystującymi rekonstrukcję morfologiczną,\n",
        "- zapoznanie z operacjami morfologicznym dla obrazów w odcieniach szarości – erozją, dylatacją, otwarciem, zamknięciem, filtrami top-hat i bottom-hat,\n",
        "- zapoznanie z wykorzystaniem złożonych operacji morfologicznych przy rozwiązywaniu konkretnego problemu,\n",
        "- zadanie domowe: wykorzystanie morfologii do implementacji ,,gry w życie''."
      ]
    },
    {
      "cell_type": "markdown",
      "metadata": {
        "id": "CbPVOPm8KHGx"
      },
      "source": [
        "## Przypomnienie teorii\n",
        "\n",
        "### Element strukturalny\n",
        "\n",
        "Element strukturalny obrazu jest to pewien wycinek obrazu (przy dyskretnej reprezentacji obrazu – pewien podzbiór jego elementów).\n",
        "Najczęściej stosowanym elementem strukturalnym jest kwadratowa maska o rozmiarze 3×3 lub 5×5. Niekiedy pożądane są maski o innym kształcie, np. zbliżonym do elipsy.\n",
        "\n",
        "### Erozja\n",
        "\n",
        "Erozja (ang. _erosion_) jest podstawowym przekształceniem morfologicznym.\n",
        "Zakładamy, że obraz wyjściowy zawiera pewien obszar (figurę) X, wyróżniający się pewną charakterystyczną cechą (np. odróżniającą się od tła jasnością).\n",
        "Figura X po wykonaniu operacji erozji to zbiór punktów centralnych wszystkich elementów strukturalnych, które w całości mieszczą się we wnętrzu obszaru X.\n",
        "Miarą stopnia erozji jest wielkość elementu strukturalnego.\n",
        "\n",
        "**Erozję** można traktować jako **filtr minimalny**, tj. z danego otoczenia piksela (określanego przez maskę) do obrazu wynikowego wybierana jest wartość minimalna.\n",
        "\n",
        "### Dylatacja\n",
        "\n",
        "Dylatacja (ang. _dilation_): Zakładamy, że obraz wejściowy zawiera obszar X wyróżniający się pewną charakterystyczną cechą (np. jasnością). Figura przekształcona przez dylatacje to zbiór punktów centralnych wszystkich elementów strukturalnych, których którykolwiek punkt mieści sie we wnętrzu obszaru X. Miarą  dylatacji jest wielkość elementu strukturalnego.\n",
        "\n",
        "**Dylatację** można traktować jako **filtr maksymalny**, tj. z danego otoczenia piksela (określanego\n",
        "przez maskę) do obrazu wynikowego wybierana jest wartość maksymalna.\n",
        "\n",
        "### Otwarcie i zamknięcie\n",
        "\n",
        "Otwarcie (ang. _opening_) polega na wykonaniu najpierw operacji erozji, a następnie dylatacji.\n",
        "\n",
        "> Otwarcie = erozja + dylatacja\n",
        "\n",
        "Zamkniecie (ang. _closing_) polega na wykonaniu najpierw operacji dylatacji, a następnie erozji.\n",
        "\n",
        "> Zamkniecie = dylatacja + erozja\n",
        "\n",
        "### Obrazy w odcieniu szarości\n",
        "\n",
        "Obrazy w odcieniu szarości – detekcja dolin i szczytów (ang. _top-hat_, _bottom-hat_):\n",
        "\n",
        "Aby wyodrębnić z obrazu lokalne ekstrema można wykorzystać zdefiniowane wcześniej przekształcenia: otwarcie i zamkniecie.\n",
        "W celu wyszukania lokalnych maksimów (szczytów) należy od wyniku otwarcia danego obrazu odjąć obraz wyjściowy.\n",
        "Analogicznie, aby wyodrębnić lokalne minima obrazu, należy dokonać podobnej operacji, z tym że pierwszą operacją bedzie zamknięcie.\n",
        "Uwaga! Należy zwrócić uwagę, że poniższe metody służą do detekcji (pokreślenia) tylko lokalnych ekstremów!"
      ]
    },
    {
      "cell_type": "markdown",
      "metadata": {
        "id": "_mWYIIJBKHGz"
      },
      "source": [
        "## Podstawowe operacje morfologiczne: erozja, dylatacja, otwarcie, zamknięcie, trafi nie trafi\n",
        "\n",
        "1. Wczytaj obraz ertka.bmp\n",
        "2. Wykonaj operację erozji `cv2.erode`. Parametrami funkcji są obraz oraz element strukturalny. Element można stworzyć samodzielnie jako tablicę składającą się z 0 i 1 `np.ones((3,3))` lub posłużyć się funkcją `cv2.getStructuringElement`, do której należy podać kształt `cv2.MORPH_RECT` oraz wielkość elementu `(3,3)`. Na początku użyj kwadratu o rozmiarze 3 pikseli.\n",
        "3. Wyświetl obraz oryginalny oraz po wykonaniu erozji – najlepiej na wspólnym wykresie. Upewnij się, że rozumiesz, jak działa erozja.\n",
        "4. Zmień element strukturalny (inny kształt – koło, diament lub inny rozmiar). Ponownie wykonaj erozję, sprawdź rezultat działania operacji.\n",
        "5. Oprócz zmiany elementu strukturalnego na rezultat erozji można wpłynąć zwiększając liczbę iteracji (np. wykonać erozję trzykrotnie). Ustal element strukturalny na kwadrat o boku 3 piksele. Wykonaj erozję obrazu _ertka_ dwukrotnie, a następnie trzykrotnie. Zaobserwuj rezultaty. Wskazówka: warto zajrzeć do dokumentacji funkcji `erode`.\n",
        "6. Wczytaj obraz buzka.bmp. Dobierz element strukturalny (zdefiniuj go ręcznie jako macierz 0 i 1) w taki sposób, aby usunąć włosy o określonej orientacji (ukośnie lewo lub prawo).\n",
        "7. Uwaga: pokazane metody wpływania na rezultaty erozji wykorzystuje się identycznie dla pozostałych operacji morfologicznych – dylatacji, otwarcia i zamknięcia.\n",
        "8. Operacją odwrotną do erozji jest dylatacja `cv2.dilate`. Ustal element strukturalny na kwadrat o boku 3 piksele. Wykonaj dylatację obrazu _ertka_. Zapoznaj się z rezultatem działania.\n",
        "9. Na wspólnym wykresie wyświetl obraz oryginalny oraz obrazy po operacjach morfologicznych: erozja, dylatacja, otwarcie i zamkniecie. Otwarcie i zamknięcie można uzyskać za pomocą `cv2.morphologyEx(img, operacja, element_strukturalny)`, gdzie typem operacji jest `cv2.MORPH_OPEN` lub `cv2.MORPH_CLOSE`.\n",
        "10. Zmień obraz _ertka_ na _wyspa_, a następnie na _kolka_. Wykonaj na każdym cztery przedstawione operacje morfologiczne. Zaobserwuj rezultaty.\n",
        "11. Minizadanko: wykorzystując poznane operacje morfologiczne spowoduj, że na obrazie _ertka_ pozostanie tylko napis RT (bez wypustek i dziur).\n",
        "12. Niekiedy potrzebne jest wykrycie konkretnych konfiguracji pikseli na obrazie – przydaje się do tego transformacja trafi, nie trafi (ang. _hit-or-miss_). Pozwala ona wykryć na obrazie obecność elementów, które dokładnie odpowiadają masce.\n",
        "13. Wczytaj obraz hom.bmp. Wyświetl go. Załóżmy, że chcemy wykryć na obrazie krzyżyki 3x3. Zdefiniuj następujący element strukturalny:\n",
        "```\n",
        "[0,1,0]\n",
        "[1,1,1]\n",
        "[0,1,0]\n",
        "```\n",
        "Wykonaj transformację trafi, nie trafi – `cv2.morphologyEx(hom, cv2.MORPH_HITMISS, se1)`. Rezultat operacji wyświetl. Czy udało się zrealizować zadanie? Jeżeli pojawiają się u Państwa błędy związane z typem danych, należy obraz wejściowy przekonwertować na skalę szarości: `cv2.cvtColor(hom, cv2.COLOR_BGR2GRAY)`.\n"
      ]
    },
    {
      "cell_type": "code",
      "execution_count": null,
      "metadata": {
        "id": "r375Q-2bKHG1"
      },
      "outputs": [],
      "source": [
        "import matplotlib.pyplot as plt\n",
        "import cv2\n",
        "import numpy as np\n",
        "import os\n",
        "import requests\n",
        "\n",
        "url = 'https://raw.githubusercontent.com/vision-agh/poc_sw/master/10_Morphology/'\n",
        "\n",
        "fileNames = [\"buzka.bmp\", \"calculator.bmp\", \"ertka.bmp\", \"ferrari.bmp\", \"fingerprint.bmp\", \"hom.bmp\", \"kolka.bmp\", \"kosc.bmp\", \"szkielet.bmp\", \"text.bmp\", \"wyspa.bmp\", \"rice.png\", \"gra.py\"]\n",
        "for fileName in fileNames:\n",
        "  if not os.path.exists(fileName):\n",
        "      r = requests.get(url + fileName, allow_redirects=True)\n",
        "      open(fileName, 'wb').write(r.content)\n"
      ]
    },
    {
      "cell_type": "code",
      "source": [
        "#Wczytaj obraz ertka.bmp\n",
        "ertka = cv2.imread(\"ertka.bmp\")"
      ],
      "metadata": {
        "id": "g1ml78nukdY1"
      },
      "execution_count": null,
      "outputs": []
    },
    {
      "cell_type": "code",
      "source": [
        "#Wykonaj operację erozji cv2.erode. Parametrami funkcji są obraz oraz element strukturalny. Element można stworzyć samodzielnie jako tablicę \n",
        "#składającą się z 0 i 1 np.ones((3,3)) lub posłużyć się funkcją cv2.getStructuringElement, do której należy podać kształt cv2.MORPH_RECT oraz \n",
        "#wielkość elementu (3,3). Na początku użyj kwadratu o rozmiarze 3 pikseli.\n",
        "#Wyświetl obraz oryginalny oraz po wykonaniu erozji – najlepiej na wspólnym wykresie. Upewnij się, że rozumiesz, jak działa erozja.\n",
        "\n",
        "st = np.ones((3,3))\n",
        "image = cv2.erode(ertka, st) \n",
        "fig,ax = plt.subplots(1,2)\n",
        "fig.set_size_inches(30,20)\n",
        "ax[0].imshow(ertka,'gray')\n",
        "ax[0].axis('off')\n",
        "ax[0].set_title(\"Original\")\n",
        "ax[1].imshow(image,'gray')\n",
        "ax[1].axis('off')\n",
        "ax[1].set_title(\"Erozja\")"
      ],
      "metadata": {
        "id": "8OFfV7vok1MA"
      },
      "execution_count": null,
      "outputs": []
    },
    {
      "cell_type": "code",
      "source": [
        "#Zmień element strukturalny (inny kształt – koło, diament lub inny rozmiar). Ponownie wykonaj erozję, sprawdź rezultat działania operacji.\n",
        "st = np.ones((5,5))\n",
        "image = cv2.erode(ertka, st) \n",
        "fig,ax = plt.subplots(1,2)\n",
        "fig.set_size_inches(30,20)\n",
        "ax[0].imshow(ertka,'gray')\n",
        "ax[0].axis('off')\n",
        "ax[0].set_title(\"Original\")\n",
        "ax[1].imshow(image,'gray')\n",
        "ax[1].axis('off')\n",
        "ax[1].set_title(\"Erozja\")"
      ],
      "metadata": {
        "id": "UAd8-WEkmWGY"
      },
      "execution_count": null,
      "outputs": []
    },
    {
      "cell_type": "code",
      "source": [
        "#Oprócz zmiany elementu strukturalnego na rezultat erozji można wpłynąć zwiększając liczbę iteracji (np. wykonać erozję trzykrotnie). \n",
        "#Ustal element strukturalny na kwadrat o boku 3 piksele. Wykonaj erozję obrazu ertka dwukrotnie, a następnie trzykrotnie. Zaobserwuj rezultaty. \n",
        "#Wskazówka: warto zajrzeć do dokumentacji funkcji erode.\n",
        "st = np.ones((3,3))\n",
        "er2 = ertka\n",
        "er3 = ertka\n",
        "er2 = cv2.erode(ertka,st,\titerations = 2)\n",
        "er3 = cv2.erode(ertka,st,\titerations = 3)\n",
        "fig,ax = plt.subplots(1,3)\n",
        "fig.set_size_inches(30,20)\n",
        "ax[0].imshow(ertka,'gray')\n",
        "ax[0].axis('off')\n",
        "ax[0].set_title(\"Original\")\n",
        "ax[1].imshow(er2,'gray')\n",
        "ax[1].axis('off')\n",
        "ax[1].set_title(\"Erozja * 2\")\n",
        "ax[2].imshow(er3,'gray')\n",
        "ax[2].axis('off')\n",
        "ax[2].set_title(\"Erozja * 3\")"
      ],
      "metadata": {
        "id": "HbD7G1oMmtPm"
      },
      "execution_count": null,
      "outputs": []
    },
    {
      "cell_type": "code",
      "source": [
        "#Wczytaj obraz buzka.bmp. Dobierz element strukturalny (zdefiniuj go ręcznie jako macierz 0 i 1) w taki sposób, \n",
        "#aby usunąć włosy o określonej orientacji (ukośnie lewo lub prawo).\n",
        "buzka = cv2.imread(\"buzka.bmp\")\n",
        "plt.imshow(buzka)"
      ],
      "metadata": {
        "id": "17c0NKVontZp"
      },
      "execution_count": null,
      "outputs": []
    },
    {
      "cell_type": "code",
      "source": [
        "st =np.array([[0,0,1],\n",
        "              [0,1,0],\n",
        "              [1,0,0]]).astype('uint8')\n",
        "b1 = cv2.erode(buzka,st)\n",
        "plt.imshow(b1)\n",
        "plt.show()\n",
        "\n",
        "st =np.array([[1,0,0],\n",
        "              [0,1,0],\n",
        "              [0,0,1]]).astype('uint8')\n",
        "b1 = cv2.erode(buzka,st)\n",
        "plt.imshow(b1)"
      ],
      "metadata": {
        "id": "3p4Mo_uPn__Y"
      },
      "execution_count": null,
      "outputs": []
    },
    {
      "cell_type": "code",
      "source": [
        "#Operacją odwrotną do erozji jest dylatacja cv2.dilate. Ustal element strukturalny na kwadrat o boku 3 piksele. \n",
        "#Wykonaj dylatację obrazu ertka. Zapoznaj się z rezultatem działania.\n",
        "\n",
        "st = np.ones((3,3))\n",
        "dil = cv2.dilate(ertka,st)\n",
        "plt.imshow(dil)"
      ],
      "metadata": {
        "id": "kt4ox7CIsArV"
      },
      "execution_count": null,
      "outputs": []
    },
    {
      "cell_type": "code",
      "source": [
        "#Na wspólnym wykresie wyświetl obraz oryginalny oraz obrazy po operacjach morfologicznych: erozja, dylatacja, otwarcie i zamkniecie. \n",
        "#Otwarcie i zamknięcie można uzyskać za pomocą cv2.morphologyEx(img, operacja, element_strukturalny), gdzie typem operacji jest cv2.MORPH_OPEN lub cv2.MORPH_CLOSE\n",
        "open = cv2.morphologyEx(ertka, cv2.MORPH_OPEN, st)\n",
        "close = cv2.morphologyEx(ertka, cv2.MORPH_CLOSE, st)\n",
        "fig,ax = plt.subplots(1,5)\n",
        "fig.set_size_inches(30,20)\n",
        "ax[0].imshow(ertka,'gray')\n",
        "ax[0].axis('off')\n",
        "ax[0].set_title(\"Original\")\n",
        "ax[1].imshow(image,'gray')\n",
        "ax[1].axis('off')\n",
        "ax[1].set_title(\"Erozja\")\n",
        "ax[2].imshow(dil,'gray')\n",
        "ax[2].axis('off')\n",
        "ax[2].set_title(\"Dylatacja\")\n",
        "ax[3].imshow(open,'gray')\n",
        "ax[3].axis('off')\n",
        "ax[3].set_title(\"Otwarcie\")\n",
        "ax[4].imshow(close,'gray')\n",
        "ax[4].axis('off')\n",
        "ax[4].set_title(\"Zamknięcie\")"
      ],
      "metadata": {
        "id": "BUTiROc2ssov"
      },
      "execution_count": null,
      "outputs": []
    },
    {
      "cell_type": "code",
      "source": [
        "#Zmień obraz ertka na wyspa, a następnie na kolka. Wykonaj na każdym cztery przedstawione operacje morfologiczne. Zaobserwuj rezultaty.\n",
        "wyspa = cv2.imread(\"wyspa.bmp\")\n",
        "kolka = cv2.imread(\"kolka.bmp\")\n",
        "st = np.ones((3,3))\n",
        "\n",
        "wer = cv2.erode(wyspa, st) \n",
        "wdil = cv2.dilate(wyspa,st)\n",
        "wo = cv2.morphologyEx(wyspa, cv2.MORPH_OPEN, st)\n",
        "wcl = cv2.morphologyEx(wyspa, cv2.MORPH_CLOSE, st)\n",
        "\n",
        "fig,ax = plt.subplots(1,5)\n",
        "fig.set_size_inches(30,20)\n",
        "ax[0].imshow(wyspa,'gray')\n",
        "ax[0].axis('off')\n",
        "ax[0].set_title(\"Original\")\n",
        "ax[1].imshow(wer,'gray')\n",
        "ax[1].axis('off')\n",
        "ax[1].set_title(\"Erozja\")\n",
        "ax[2].imshow(wdil,'gray')\n",
        "ax[2].axis('off')\n",
        "ax[2].set_title(\"Dylatacja\")\n",
        "ax[3].imshow(wo,'gray')\n",
        "ax[3].axis('off')\n",
        "ax[3].set_title(\"Otwarcie\")\n",
        "ax[4].imshow(wcl,'gray')\n",
        "ax[4].axis('off')\n",
        "ax[4].set_title(\"Zamknięcie\")\n",
        "plt.show()\n",
        "\n",
        "ker = cv2.erode(kolka, st) \n",
        "kdil = cv2.dilate(kolka,st)\n",
        "ko = cv2.morphologyEx(kolka, cv2.MORPH_OPEN, st)\n",
        "kcl = cv2.morphologyEx(kolka, cv2.MORPH_CLOSE, st)\n",
        "\n",
        "fig,ax = plt.subplots(1,5)\n",
        "fig.set_size_inches(30,20)\n",
        "ax[0].imshow(kolka,'gray')\n",
        "ax[0].axis('off')\n",
        "ax[0].set_title(\"Original\")\n",
        "ax[1].imshow(ker,'gray')\n",
        "ax[1].axis('off')\n",
        "ax[1].set_title(\"Erozja\")\n",
        "ax[2].imshow(kdil,'gray')\n",
        "ax[2].axis('off')\n",
        "ax[2].set_title(\"Dylatacja\")\n",
        "ax[3].imshow(ko,'gray')\n",
        "ax[3].axis('off')\n",
        "ax[3].set_title(\"Otwarcie\")\n",
        "ax[4].imshow(kcl,'gray')\n",
        "ax[4].axis('off')\n",
        "ax[4].set_title(\"Zamknięcie\")\n",
        "plt.show()\n"
      ],
      "metadata": {
        "id": "HYCjJuQ-twEQ"
      },
      "execution_count": null,
      "outputs": []
    },
    {
      "cell_type": "code",
      "source": [
        "#Minizadanko: wykorzystując poznane operacje morfologiczne spowoduj, że na obrazie ertka pozostanie tylko napis RT (bez wypustek i dziur).\n",
        "erc = cv2.morphologyEx(ertka, cv2.MORPH_OPEN, st)\n",
        "erc = cv2.morphologyEx(erc, cv2.MORPH_CLOSE, st)\n",
        "\n",
        "plt.imshow(erc)"
      ],
      "metadata": {
        "id": "kIv2RlWAu35_"
      },
      "execution_count": null,
      "outputs": []
    },
    {
      "cell_type": "code",
      "source": [
        "#Wczytaj obraz hom.bmp. Wyświetl go. Załóżmy, że chcemy wykryć na obrazie krzyżyki 3x3. Zdefiniuj następujący element strukturalny:\n",
        "hom = cv2.imread(\"hom.bmp\")\n",
        "hom = cv2.cvtColor(hom, cv2.COLOR_BGR2GRAY)\n",
        "plt.imshow(hom,'gray')\n",
        "plt.show()\n",
        "st =np.array([[0,1,0],\n",
        "              [1,1,1],\n",
        "              [0,1,0]]).astype('uint8')\n",
        "\n",
        "hm = cv2.morphologyEx(hom, cv2.MORPH_HITMISS, st)\n",
        "plt.imshow(hm,'gray')"
      ],
      "metadata": {
        "id": "MWFcVeCoySc8"
      },
      "execution_count": null,
      "outputs": []
    },
    {
      "cell_type": "markdown",
      "metadata": {
        "id": "QgLQKgtvKHG2"
      },
      "source": [
        "## Inne operacje morfologiczne\n",
        "Do innych operacji morfologicznych należą między innymi ścienianie (ang. _thinning_), szkieletyzacja (ang. _skeletonization_), rekonstrukcja morfologiczna (ang. _morphological reconstruction_), czyszczenie brzegu (ang. _clearing border_) i uzupełnianie dziur (ang. _filling holes_). W tym rozdziale zostanie zaprezentowana rekonstrukcja morfologiczna.\n",
        "\n",
        "Rekonstrukcja morfologiczna jest operacją trójargumentową. Wymaga podania markera (obrazu, od którego zacznie się transformacja), maski (ograniczenia transformacji) oraz elementu strukturalnego. Operacja polega na wykonywaniu kroków (dopóki w dwóch kolejnych iteracjach nic się nie zmieni):\n",
        "- dylatacja obrazu markera (z danym elementem strukturalnym),\n",
        "- nowy marker = część wspólna dylatacji starego markera i maski.\n",
        "\n",
        "Trzy operacje, które wykorzystują schemat rekonstrukcji to: \n",
        "- otwarcie poprzez rekonstrukcję,\n",
        "- wypełnianie dziur,\n",
        "- czyszczenie brzegu.\n",
        "\n",
        "### Otwarcie poprzez rekonstrukcję:\n",
        "- Wczytaj obraz text.bmp, wyświetl go.\n",
        "- Załóżmy, że chcemy wykryć na obrazie litery, które zawierają długie pionowe fragmenty. W pierwszym podejściu stosujemy morfologiczne otwarcie z maską pionową o wysokości 51 pikseli (taka jest średnia wysokość liter na obrazie – `np.ones((51,1))`. Sprawdź rezultat takiej operacji.\n",
        "- Detekcja wprawdzie sie udała, ale otrzymujemy tylko pionowe kreski.\n",
        "- Rozwiązaniem jest rekonstrukcja – jako marker wybieramy obraz oryginalny poddany erozji. Maskę stanowi obraz oryginalny. Samodzielnie dobierz element strukturalny.\n",
        "- Zaimplementuj rekonstrukcję i porównaj efekt otwarcia i rekonstrukcji.\n"
      ]
    },
    {
      "cell_type": "code",
      "execution_count": null,
      "metadata": {
        "id": "6oy1-pqdKHG3"
      },
      "outputs": [],
      "source": [
        "#Wczytaj obraz text.bmp, wyświetl go.\n",
        "text = cv2.imread(\"text.bmp\")\n",
        "plt.imshow(text)"
      ]
    },
    {
      "cell_type": "code",
      "source": [
        "#Załóżmy, że chcemy wykryć na obrazie litery, które zawierają długie pionowe fragmenty. \n",
        "#W pierwszym podejściu stosujemy morfologiczne otwarcie z maską pionową o wysokości 51 pikseli \n",
        "#(taka jest średnia wysokość liter na obrazie – np.ones((51,1)). Sprawdź rezultat takiej operacji.\n",
        "st = np.ones((51,1))\n",
        "to = cv2.morphologyEx(text, cv2.MORPH_OPEN, st)\n",
        "plt.imshow(to)"
      ],
      "metadata": {
        "id": "IbLhXhDZrC0p"
      },
      "execution_count": null,
      "outputs": []
    },
    {
      "cell_type": "code",
      "source": [
        "X,Y,_ = text.shape\n",
        "marker = cv2.erode(text, st)\n",
        "\n",
        "rect = cv2.getStructuringElement(cv2.MORPH_RECT, (3, 3))\n",
        "\n",
        "while True:\n",
        "    dilated = cv2.dilate(marker, rect)\n",
        "    result = dilated & text\n",
        "\n",
        "    if (result == marker).all():\n",
        "        break\n",
        "\n",
        "    marker = result\n",
        "\n",
        "plt.imshow(marker,'gray')\n",
        "plt.show()\n",
        "plt.imshow(text,'gray')\n",
        "plt.show()\n",
        "\n"
      ],
      "metadata": {
        "id": "g9sy46p0zp3l"
      },
      "execution_count": null,
      "outputs": []
    },
    {
      "cell_type": "markdown",
      "metadata": {
        "id": "x_irwB7fKHG3"
      },
      "source": [
        "## Operacje morfologiczne dla obrazów w skali szarości\n",
        "\n",
        "Wszystkie dotychczasowe operacje (oprócz transformacji trafi, nie trafi) mają swoje odpowieniki dla obrazów w skali szarości. Konieczne jest tylko podanie definicji erozji i dylatacji w nieco innej formie:\n",
        "- Erozja – filtr minimalny.\n",
        "- Dylatacja – filtr maksymalny.\n",
        "\n",
        "\n",
        "1. Wczytaj obraz ferrari.bmp i wykonaj operacje morfologiczne: erozję i dylatację. Element strukturalny ustal na kwadrat 3×3. Oblicz też różnicę pomiędzy obrazem po dylatacji a po erozji – czyli tzw. gradient morfologiczny. Rezultaty wyświetl na wspólnym wykresie.\n",
        "2. Otwarcie to tłumienie jasnych detali na obrazie. Zamkniecie to tłumienie ciemnych detali na obrazie. Potwierdź powyższe stwierdzenia wykonując obie operacje na obrazie _ferrari_.\n",
        "3. Wykonaj operacje top-hat i bottom-hat `cv2.morphologyEx(img, cv2.MORPH_TOPHAT, strel)` oraz `cv2.morphologyEx(img, cv2.MORPH_BLACKHAT, strel)` na obrazie _ferrari_. Jakie obszary udało sie wykryć za pomocą tej operacji? Z jakich operacji składa sie filtr top-hat?\n",
        "4. Wczytaj obraz rice.png (z laboratorium o binaryzacji). Wyświetl go. Zwróć uwage na niejednorodne oświetlenie. Wykonaj operacje top-hat z dużym elementem strukturalnym (np. koło o rozmiarze 10) na tym obrazie. Wynik wyświetl. Co stało się z niejednorodnością oświetlenia?"
      ]
    },
    {
      "cell_type": "code",
      "execution_count": null,
      "metadata": {
        "pycharm": {
          "name": "#%%\n"
        },
        "id": "jmp6zrXkKHG4"
      },
      "outputs": [],
      "source": [
        "#Wczytaj obraz ferrari.bmp i wykonaj operacje morfologiczne: erozję i dylatację. Element strukturalny ustal na kwadrat 3×3. Oblicz też różnicę \n",
        "#pomiędzy obrazem po dylatacji a po erozji – czyli tzw. gradient morfologiczny. Rezultaty wyświetl na wspólnym wykresie.\n",
        "\n",
        "ferrari = cv2.imread(\"ferrari.bmp\")\n",
        "st = np.ones((3,3))\n",
        "fer = cv2.erode(ferrari, st) \n",
        "fdil = cv2.dilate(ferrari,st)\n",
        "\n",
        "\n",
        "fig,ax = plt.subplots(1,5)\n",
        "fig.set_size_inches(30,20)\n",
        "ax[0].imshow(ferrari,'gray')\n",
        "ax[0].axis('off')\n",
        "ax[0].set_title(\"Original\")\n",
        "ax[1].imshow(fer,'gray')\n",
        "ax[1].axis('off')\n",
        "ax[1].set_title(\"Erozja\")\n",
        "ax[2].imshow(np.abs(ferrari-fer),'gray')\n",
        "ax[2].axis('off')\n",
        "ax[2].set_title(\"Różnica\")\n",
        "ax[3].imshow(fdil,'gray')\n",
        "ax[3].axis('off')\n",
        "ax[3].set_title(\"Dylatacja\")\n",
        "ax[4].imshow(np.abs(ferrari-fdil),'gray')\n",
        "ax[4].axis('off')\n",
        "ax[4].set_title(\"Różnica\")\n",
        "plt.show()\n"
      ]
    },
    {
      "cell_type": "code",
      "source": [
        "#Otwarcie to tłumienie jasnych detali na obrazie. Zamkniecie to tłumienie ciemnych detali na obrazie. Potwierdź powyższe stwierdzenia wykonując obie operacje na obrazie ferrari.\n",
        "\n",
        "fo = cv2.morphologyEx(ferrari, cv2.MORPH_OPEN, st)\n",
        "fcl = cv2.morphologyEx(ferrari, cv2.MORPH_CLOSE, st)\n",
        "\n",
        "fig,ax = plt.subplots(1,3)\n",
        "fig.set_size_inches(30,20)\n",
        "ax[0].imshow(ferrari,'gray')\n",
        "ax[0].axis('off')\n",
        "ax[0].set_title(\"Originał\")\n",
        "ax[1].imshow(fo,'gray')\n",
        "ax[1].axis('off')\n",
        "ax[1].set_title(\"Otwarcie\")\n",
        "ax[2].imshow(fcl,'gray')\n",
        "ax[2].axis('off')\n",
        "ax[2].set_title(\"Zamknięcie\")"
      ],
      "metadata": {
        "id": "1V2RAjnXLmOp"
      },
      "execution_count": null,
      "outputs": []
    },
    {
      "cell_type": "code",
      "source": [
        "#Wykonaj operacje top-hat i bottom-hat cv2.morphologyEx(img, cv2.MORPH_TOPHAT, strel) oraz cv2.morphologyEx(img, cv2.MORPH_BLACKHAT, strel) na obrazie ferrari. \n",
        "#Jakie obszary udało sie wykryć za pomocą tej operacji? Z jakich operacji składa sie filtr top-hat?\n",
        "\n",
        "top = cv2.morphologyEx(ferrari, cv2.MORPH_TOPHAT, st)\n",
        "bottom = cv2.morphologyEx(ferrari, cv2.MORPH_BLACKHAT, st)\n",
        "\n",
        "fig,ax = plt.subplots(1,3)\n",
        "fig.set_size_inches(30,20)\n",
        "ax[0].imshow(ferrari,'gray')\n",
        "ax[0].axis('off')\n",
        "ax[0].set_title(\"Originał\")\n",
        "ax[1].imshow(top,'gray')\n",
        "ax[1].axis('off')\n",
        "ax[1].set_title(\"Top-hat\")\n",
        "ax[2].imshow(bottom,'gray')\n",
        "ax[2].axis('off')\n",
        "ax[2].set_title(\"Bottom-hat\")"
      ],
      "metadata": {
        "id": "DuQ-CtC6MWE8"
      },
      "execution_count": null,
      "outputs": []
    },
    {
      "cell_type": "code",
      "source": [
        "#Wczytaj obraz rice.png (z laboratorium o binaryzacji). Wyświetl go. Zwróć uwage na niejednorodne oświetlenie. Wykonaj operacje top-hat z dużym elementem \n",
        "#strukturalnym (np. koło o rozmiarze 10) na tym obrazie. Wynik wyświetl. Co stało się z niejednorodnością oświetlenia?\n",
        "\n",
        "rice = cv2.imread(\"rice.png\")\n",
        "st = np.ones((10,10))\n",
        "top = cv2.morphologyEx(rice, cv2.MORPH_TOPHAT, st)\n",
        "\n",
        "fig,ax = plt.subplots(1,2)\n",
        "fig.set_size_inches(30,20)\n",
        "ax[0].imshow(rice,'gray')\n",
        "ax[0].axis('off')\n",
        "ax[0].set_title(\"Originał\")\n",
        "ax[1].imshow(top,'gray')\n",
        "ax[1].axis('off')\n",
        "ax[1].set_title(\"Top-hat\")"
      ],
      "metadata": {
        "id": "kUmgRByuM4Tz"
      },
      "execution_count": null,
      "outputs": []
    },
    {
      "cell_type": "markdown",
      "metadata": {
        "id": "qIwoiXs-KHG4"
      },
      "source": [
        "## Przykład zastosowania morfologii\n",
        "\n",
        "1. Wczytaj obraz calculator.bmp. Wyświetl go. Zadanie do realizacji: wyizolować tekst na klawiszach kalkulatora.\n",
        "2. W pierwszym kroku usunięte zostaną poziome odbicia znajdujące się na górnej krawędzi każdego z klawiszy. Wykorzystamy fakt, że odbicie jest dłuższe niż jakikolwiek pojedynczy znak. Wykonujemy otwarcie przez rekonstrukcję (można wykorzystać kod z wcześniejszego zadania, ale tym razem mamy do czynienia z obrazem w skali szarości zamiast z binarnym – proszę się zastanowić, jaka operacja jest odpowiednikiem operacji AND?):\n",
        "  - początkowo wykonujemy erozję z elementem strukturalnym w postaci poziomej linii — `np.ones((1,71))`,\n",
        "  - następnie dokonujemy rekonstrukcji: marker – obraz po erozji, maska – obraz oryginalny,\n",
        "  - wynik operacji wyświetl. Dla porównania wyświetl wynik klasycznego otwarcia z takim samym elementem strukturalnym. W czym otwarcie przez rekonstrukcję jest lepsze od klasycznego?\n",
        "3. W poprzednim kroku (tj. w wyniku otwarcia przez rekonstrukcję) uzyskaliśmy obraz tła. Należy go teraz odjąć od obrazu oryginalnego. Ten rodzaj operacji można nazwać top-hat poprzez rekonstrukcję. Wynik wyświetl. Dla porównania wyświetl wynik klasycznej operacji top-hat – różnicy miedzy obrazem oryginalnym a obrazem po klasycznym otwarciu.\n",
        "4. W podobny sposób należy zlikwidować odblaski pionowe:\n",
        "  - erozja z elementem strukturalnym w postaci poziomej linii – `np.ones((1,11))` – zostaną zachowane wszystkie znaki (bo prawie wszystkie są szersze). Uwaga. Operacje wykonujemy na uzyskanym w kroku 3 rezultacie odjęcia od obrazu oryginalnego, obrazu po rekonstrukcji.\n",
        "  - rekonstrukcja: marker – obraz po erozji, maska – obraz z punktu 3 (różnica oryginalnego i tła),\n",
        "  - wynik wyświetl.\n",
        "5. Rezultat jest niemal satysfakcjonujący, ale wystąpił problem z cienkimi pionowymi elementami napisów – np. I na klawiszu ASIN. Wykorzystując fakt, że usunięte znaki znajdują się w bezpośrednim sąsiedztwie istniejących znaków wykonujemy następujące operacje:\n",
        "  - dylatacja z elementem `np.ones((1,21))`,\n",
        "  - rekonstrukcja z markerem w postaci – minimum(obraz po dylatacji z punktu powyżej, obraz uzyskany w punkcie 3, tj. różnica oryginalnego i tła) oraz maską – obraz z pkt. 3.\n",
        "6. Rezultat wyświetl. Czy za pomocą zaproponowanych operacji udało się uzyskać zamierzony efekt – ekstrakcję napisów?\n"
      ]
    },
    {
      "cell_type": "code",
      "execution_count": null,
      "metadata": {
        "pycharm": {
          "name": "#%%\n"
        },
        "id": "DIy6L9S7KHG5"
      },
      "outputs": [],
      "source": [
        "#Wczytaj obraz calculator.bmp. Wyświetl go. Zadanie do realizacji: wyizolować tekst na klawiszach kalkulatora.\n",
        "calc = cv2.imread(\"calculator.bmp\",cv2.IMREAD_GRAYSCALE)\n",
        "plt.imshow(calc)"
      ]
    },
    {
      "cell_type": "code",
      "source": [
        "#2\n",
        "st = np.ones((1,71))\n",
        "marker = cv2.erode(calc, st)\n",
        "\n",
        "rect = cv2.getStructuringElement(cv2.MORPH_RECT, (3, 3))\n",
        "\n",
        "while True:\n",
        "    dilated = cv2.dilate(marker, rect)\n",
        "    result = np.minimum(dilated, calc)\n",
        "\n",
        "    if (result == marker).all():\n",
        "        break\n",
        "\n",
        "    marker = result\n",
        "\n",
        "op = cv2.morphologyEx(calc,cv2.MORPH_OPEN,rect)\n",
        "\n",
        "fig,ax = plt.subplots(1,2)\n",
        "fig.set_size_inches(30,20)\n",
        "ax[0].imshow(marker,'gray')\n",
        "ax[0].axis('off')\n",
        "ax[1].imshow(op,'gray')\n",
        "ax[1].axis('off')"
      ],
      "metadata": {
        "id": "OGyG8CuWN39P"
      },
      "execution_count": null,
      "outputs": []
    },
    {
      "cell_type": "code",
      "source": [
        "#3\n",
        "diff = np.abs(calc - marker)\n",
        "top = cv2.morphologyEx(calc, cv2.MORPH_TOPHAT, rect)\n",
        "fig,ax = plt.subplots(1,2)\n",
        "fig.set_size_inches(30,20)\n",
        "ax[0].imshow(diff,'gray')\n",
        "ax[0].axis('off')\n",
        "ax[1].imshow(top,'gray')\n",
        "ax[1].axis('off')"
      ],
      "metadata": {
        "id": "hszvIiWQPDHT"
      },
      "execution_count": null,
      "outputs": []
    },
    {
      "cell_type": "code",
      "source": [
        "#4\n",
        "st = np.ones((1,11))\n",
        "marker = cv2.erode(diff, st)\n",
        "\n",
        "\n",
        "while True:\n",
        "    dilated = cv2.dilate(marker, rect)\n",
        "    result = np.minimum(dilated, diff)\n",
        "\n",
        "    if (result == marker).all():\n",
        "        break\n",
        "\n",
        "    marker = result\n",
        "\n",
        "plt.imshow(marker,'gray')\n",
        "plt.show()"
      ],
      "metadata": {
        "id": "hcrbSHjyPa9T"
      },
      "execution_count": null,
      "outputs": []
    },
    {
      "cell_type": "code",
      "source": [
        "#5\n",
        "st = np.ones((1,21))\n",
        "marker = cv2.dilate(marker, st)\n",
        "\n",
        "while True:\n",
        "    dilate = cv2.dilate(marker, rect)\n",
        "    result = np.minimum(dilate, diff)\n",
        "\n",
        "    if (result == marker).all():\n",
        "        break\n",
        "\n",
        "    marker = result\n",
        "\n",
        "plt.imshow(marker,'gray')\n",
        "plt.show()"
      ],
      "metadata": {
        "id": "0XCiyxGeP4VX"
      },
      "execution_count": null,
      "outputs": []
    },
    {
      "cell_type": "markdown",
      "metadata": {
        "id": "Q0ZMDe2MKHG6"
      },
      "source": [
        "## Zadanie domowe: morfologiczna gra w życie – John Conway\n",
        "\n",
        "### Wykorzystanie operacji LUT w przekształceniu trafi, nie trafi\n",
        "  - Szybszą metodą wykonania transformacji trafi, nie trafi może być operacja LUT.\n",
        "  - Technika polega na zakodowaniu wyników wszystkich interesujących  konfiguracji, a następnie podczas przetwarzania wykorzystania operacji LUT.\n",
        "  - Dla otoczenia 3x3 możliwe jest 512 różnych konfiguracji.\n",
        "  - Aby praktycznie zrealizować operacje, każdej konfiguracji należy nadać unikalny indeks. Jedną z możliwości jest pomnożenie elementu strukturalnego przez macierz (mnożenie odpowiednich elementów):\n",
        "  ```\n",
        "  [[1, 8,  64],\n",
        "   [ 2, 16, 128],\n",
        "   [ 4, 32, 256]]\n",
        "  ```\n",
        "  Przykładowo elementowi:\n",
        "  ```\n",
        "  [[1, 1, 0],\n",
        "   [ 1, 0, 1],\n",
        "   [ 1, 0, 1]]\n",
        "  ```\n",
        "  odpowiada liczba: 1(1) + 2(1) + 4(1) + 8(1) + 128(1) + 256(1) = 399.\n",
        "  \n",
        "### Przykład działania metody – detekcja punktów końcowych na obrazie.\n",
        "  - założenie: punkt końcowy to punkt, który ma dokładnie jednego sąsiada,\n",
        "  - zdefiniuj funkcję, która jako argument pobiera otoczenie, a zwraca 0 lub 1 w zależności od tego, czy rozpatrywany punkt jest końcowy np. dla sąsiedztwa 3×3 punkt będzie końcowy, jeżeli jest zapalony i ma tylko jednego sąsiada (czyli suma pikseli jest równa 2).\n",
        "  - wygeneruj przekodowanie LUT.\n",
        "  - wczytaj obraz szkielet.bmp (należy go przekształcić, aby uzyskać dwuwymiarową tablicę o wartościach 0-1). Wykorzystując wygenerowane przekodowanie LUT wykonaj detekcję zakończeń. Wyświetl obraz oryginalny i po przekodowaniu LUT.\n",
        "\n",
        "### Gra w życie\n",
        "\n",
        "Reguły gry w życie:\n",
        "  - każdy piksel biały, który ma dwóch lub trzech sąsiadów (białych) przeżywa,\n",
        "  - każdy piksel biały, który ma 0,1 lub więcej niż trzech sąsiadów (białych) nie przeżywa (głód lub przeludnienie),\n",
        "  - jeżeli jakieś pole (czarne) sąsiaduje dokładnie z trzema pikselami białymi, to na tym polu ,,rodzi'' się nowy piksel biały.\n",
        "\n",
        "Zadanie:\n",
        "  - za pomocą mechanizmu LUT (opisanego wcześniej) należy zaimplementować morfologiczną gre w życie,\n",
        "  - najważniejszym elementem jest funkcja opisująca reguły gry,\n",
        "  - symulacje należny przeprowadzić dla plansz dostarczonych w pliku gra.py,\n",
        "  - dobrze jest wykonać kilka iteracji – zobaczyć jak zmienia się kształt,\n",
        "  - inne ciekawe kształty do znalezienia w internecie.\n"
      ]
    },
    {
      "cell_type": "code",
      "execution_count": null,
      "metadata": {
        "pycharm": {
          "name": "#%%\n"
        },
        "id": "5ATrEYkIKHG6"
      },
      "outputs": [],
      "source": []
    }
  ],
  "metadata": {
    "celltoolbar": "Raw Cell Format",
    "kernelspec": {
      "display_name": "Python 3",
      "language": "python",
      "name": "python3"
    },
    "language_info": {
      "codemirror_mode": {
        "name": "ipython",
        "version": 3
      },
      "file_extension": ".py",
      "mimetype": "text/x-python",
      "name": "python",
      "nbconvert_exporter": "python",
      "pygments_lexer": "ipython3",
      "version": "3.9.0"
    },
    "colab": {
      "provenance": []
    }
  },
  "nbformat": 4,
  "nbformat_minor": 0
}