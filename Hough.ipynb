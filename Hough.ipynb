{
  "cells": [
    {
      "cell_type": "markdown",
      "metadata": {
        "id": "RBF5MfbkOq00"
      },
      "source": [
        "# Instrukcja - Transformacja Hougha\n",
        "\n",
        "### Cel:\n",
        "- zapoznanie z transformacją Hougha dla pojedynczego punktu,\n",
        "- kilku punktów, prostych figur\n",
        "- wykorzystanie transformacji Hougha do detekcji linii prostych na rzeczywistym obrazie\n",
        "- transformacja Hougha w przestrzeni ab\n",
        "\n",
        "### Transformacja Hough'a\n",
        "\n",
        "Transformacja Hougha dla prostych jest metodą detekcji współliniowych punktów. Każda prosta może być jednoznacznie przedstawiona za pomocą dwóch parametrów. Przestrzeń tych parametrów to przestrzeń Hougha. Najczęściej wykorzystywanymi parametrami w tej metodzie są współczynniki ρ,θ\n",
        "\n",
        "opisujące równanie prostej w postaci normalnej:\n",
        "\n",
        "ρ=x⋅cos(θ)+y⋅sin(θ)\n",
        "\n",
        "gdzie: ρ - promień wodzący, θ - kąt pomiędzy ρ a osią OX.\n",
        "\n",
        "Własności transformacji Hougha:\n",
        "- prostej w przestrzeni kartezjańskiej odpowiada punkt w przestrzeni Hougha\n",
        "- pękowi prostych przechdzących przez punkt w przestrzeni kartezjańskiej odpowiada krzywa sinusoidalna w przestrzeni Hougha\n",
        "- punkty leżące na tej samej prostej (w przestrzeni kartezjańskiej) korespondują z sinusoidami przechodzącymi przez wspólny punkt w przestrzeni Hougha.\n",
        "\n",
        "Metoda wyliczania transformacji Hougha składa się z następujących kroków:\n",
        "- przez każdy badany (różny od zera) punkt obrazu prowadzony jest pęk prostych, przechodzących przez ten punkt\n",
        "- każda z tych prostych transformowana jest do przestrzeni Hougha i tworzy tam punkt o współrzędnych ρ,θ\n",
        "- w ten sposób, każdy punkt obrazu pierwotnego (pęk prostych) jest odwzorowany w sinusoidalną krzywą w przestrzeni Hougha\n",
        "\n",
        "Przestrzeń Hougha jest przestrzenią akumulacyjną tzn. punkty sinusoidalnych krzywych, wygenerowanych dla punktów obrazu pierwotnego dodają się w miejscach, w których krzywe te przecinają się. Powstałe w ten sposób (w przestrzeni Hougha) maksima odpowiadają zbiorom punktów, należących do jednej prostej. Współrzędne ρ,θ\n",
        "tego maksimum jednoznacznie określają położenie prostej na obrazie pierwotnym.\n",
        "\n",
        "### Transformacja Hougha dla małej liczby punktów.\n",
        "   1. Uruchom poniższy kod. W tablicy `im` wskaż jeden punkt, dla którego ma zostać obliczona transformata."
      ]
    },
    {
      "cell_type": "code",
      "execution_count": null,
      "metadata": {
        "id": "xZ-hNU_COq03"
      },
      "outputs": [],
      "source": [
        "import matplotlib.pyplot as plt\n",
        "import cv2\n",
        "import numpy as np\n",
        "from skimage.transform import hough_line, hough_line_peaks\n",
        "import os\n",
        "import requests\n",
        "\n",
        "url = 'https://raw.githubusercontent.com/vision-agh/poc_sw/master/11_Hough/'\n",
        "\n",
        "fileNames = [\"dom.png\", \"kwadraty.png\", \"lab112.png\"]\n",
        "for fileName in fileNames:\n",
        "  if not os.path.exists(fileName):\n",
        "      r = requests.get(url + fileName, allow_redirects=True)\n",
        "      open(fileName, 'wb').write(r.content)\n",
        "\n",
        "im = np.zeros((64,64), dtype=np.uint8)\n",
        "\n",
        "im[18, 31] = 1\n",
        "\n",
        "fig, ax = plt.subplots()\n",
        "fig.set_size_inches(4, 4)\n",
        "ax.imshow(im, 'gray')\n",
        "ax.axis('off')\n"
      ]
    },
    {
      "cell_type": "markdown",
      "metadata": {
        "id": "dUaTnRlvOq04"
      },
      "source": [
        "3. Wykonaj transformację Hougha obazu im. Wykorzystaj funkcję *hough_line* z modułu _skimage.transform_. Funkcja zwraca: macierz H (przestrzeń Hougha) oraz dwa wektory theta i rho dla kolejnych \n",
        "4. Wyświetl przestrzeń Hougha za pomocą funkcji _plt.imshow_ (można też wykorzystać poniższą funkcję *show_hough*). Jak \"wygląda\" pojedynczy punkt w przestrzeni Hougha?"
      ]
    },
    {
      "cell_type": "code",
      "execution_count": null,
      "metadata": {
        "id": "q-1u0OPhOq05"
      },
      "outputs": [],
      "source": [
        "def show_hough(h, image):\n",
        "    # Generating figure 1\n",
        "    fig, axes = plt.subplots(1, 2, figsize=(15, 6))\n",
        "    ax = axes.ravel()\n",
        "\n",
        "    ax[0].imshow(image, 'gray')\n",
        "    ax[0].set_title('Input image')\n",
        "    ax[0].set_axis_off()\n",
        "\n",
        "    ax[1].imshow(h, 'gray')\n",
        "    ax[1].set_title('Hough transform')\n",
        "    ax[1].set_xlabel('Angles (degrees)')\n",
        "    ax[1].set_ylabel('Distance (pixels)')\n",
        "    ax[1].axis('image')\n",
        "    \n",
        "    plt.tight_layout()\n",
        "    plt.show()    "
      ]
    },
    {
      "cell_type": "markdown",
      "metadata": {
        "id": "N7LDZytIOq06"
      },
      "source": [
        "5. Powtórz punkty 1-4, ale tym razem klinkij dwa punkty. Jak zmienia się przestrzeń Hougha?\n",
        "6. Powtórz punkty 1-4, ale tym razem kliknij kilka punktów starając się aby były współliniowe. Zaobserwuj zmiany w przestrzeni Hougha\n",
        "7. Poeksperymentuj z różnymi układami punktów"
      ]
    },
    {
      "cell_type": "code",
      "source": [
        "#Wykonaj transformację Hougha obazu im. Wykorzystaj funkcję hough_line z modułu skimage.transform. \n",
        "#Funkcja zwraca: macierz H (przestrzeń Hougha) oraz dwa wektory theta i rho dla kolejnych\n",
        "\n",
        "h,p,O = hough_line(im)"
      ],
      "metadata": {
        "id": "iUDm9upAqo5V"
      },
      "execution_count": null,
      "outputs": []
    },
    {
      "cell_type": "code",
      "source": [
        "#Wyświetl przestrzeń Hougha za pomocą funkcji plt.imshow (można też wykorzystać poniższą funkcję show_hough). Jak \"wygląda\" pojedynczy punkt w przestrzeni Hougha?\n",
        "\n",
        "show_hough(h,im)"
      ],
      "metadata": {
        "id": "VmSMklQerC2O"
      },
      "execution_count": null,
      "outputs": []
    },
    {
      "cell_type": "code",
      "source": [
        "#Powtórz punkty 1-4, ale tym razem klinkij dwa punkty. Jak zmienia się przestrzeń Hougha?\n",
        "im = np.zeros((64,64), dtype=np.uint8)\n",
        "im[12,22] = 1\n",
        "im[57,14] = 1\n",
        "h,p,O = hough_line(im)\n",
        "show_hough(h,im)"
      ],
      "metadata": {
        "id": "n4fzKcQ5rKBk"
      },
      "execution_count": null,
      "outputs": []
    },
    {
      "cell_type": "code",
      "source": [
        "#Powtórz punkty 1-4, ale tym razem kliknij kilka punktów starając się aby były współliniowe. Zaobserwuj zmiany w przestrzeni Hougha\n",
        "im = np.zeros((64,64), dtype=np.uint8)\n",
        "im[12,22] = 1\n",
        "im[18,28] = 1\n",
        "im[34,44] = 1\n",
        "im[52,62] = 1\n",
        "h,p,O = hough_line(im)\n",
        "show_hough(h,im)"
      ],
      "metadata": {
        "id": "fY7aJHGprfug"
      },
      "execution_count": null,
      "outputs": []
    },
    {
      "cell_type": "code",
      "source": [
        "#Poeksperymentuj z różnymi układami punktów\n",
        "im = np.zeros((64,64), dtype=np.uint8)\n",
        "im[12,22] = 1\n",
        "im[12,40] = 1\n",
        "im[30,40] = 1\n",
        "im[30,22] = 1\n",
        "h,p,O = hough_line(im)\n",
        "show_hough(h,im)\n",
        "\n",
        "im = np.zeros((64,64), dtype=np.uint8)\n",
        "im[2,22] = 1\n",
        "im[12,14] = 1\n",
        "im[56,40] = 1\n",
        "im[44,33] = 1\n",
        "h,p,O = hough_line(im)\n",
        "show_hough(h,im)"
      ],
      "metadata": {
        "id": "TGkhCmA5r6LC"
      },
      "execution_count": null,
      "outputs": []
    },
    {
      "cell_type": "markdown",
      "metadata": {
        "id": "hv1mwAapOq06"
      },
      "source": [
        "### Transformata Hougha dla pojedynczego obiektu\n",
        "\n",
        "W tym podpunkcie pokazane zostanie praktycznie wykorzystanie transformaty Hougha - do detekcji prostych na sztucznym rysunku.\n",
        "\n",
        "   1. Wczytaj obraz \"kwadraty.png\". Wyświetl go.\n",
        "   2. Wykonaj detekcję krawędzi jedną z metod gradientowych. Ważne aby obraz krawędzi był jak najlepszej jakości - co oznacza cienkie (nawet niekoniecznie ciągłe) krawędzie - dla tego przypadku nie powinno być trudne do uzyskania. Wyświetl obraz po detekcji krawędzi.\n",
        "   3. Wykonaj transformatę Hougha obrazu krawędziowego. Wykorzystaj funkcję *hough\\_line*.\n",
        "   4. Wyświetl macierz H. Czy widoczna jest taka liczba maksimów jakiej się spodziewamy?"
      ]
    },
    {
      "cell_type": "code",
      "execution_count": null,
      "metadata": {
        "id": "8FzB6xW0Oq07"
      },
      "outputs": [],
      "source": [
        "#Wczytaj obraz \"kwadraty.png\". Wyświetl go.\n",
        "kwadraty = cv2.imread(\"kwadraty.png\")\n",
        "plt.imshow(kwadraty)"
      ]
    },
    {
      "cell_type": "code",
      "source": [
        "#Wykonaj detekcję krawędzi jedną z metod gradientowych. Ważne aby obraz krawędzi był jak najlepszej jakości - co oznacza cienkie \n",
        "#(nawet niekoniecznie ciągłe) krawędzie - dla tego przypadku nie powinno być trudne do uzyskania. Wyświetl obraz po detekcji krawędzi.\n",
        "\n",
        "kw_blur = cv2.GaussianBlur(kwadraty, (3,3), 0)\n",
        "dst = cv2.Canny(kw_blur,100,200,None,3,1)\n",
        "plt.imshow(dst,'gray')"
      ],
      "metadata": {
        "id": "fpSMpsHDslQ0"
      },
      "execution_count": null,
      "outputs": []
    },
    {
      "cell_type": "code",
      "source": [
        "#Wykonaj transformatę Hougha obrazu krawędziowego. Wykorzystaj funkcję hough_line.\n",
        "h,p,O = hough_line(dst)"
      ],
      "metadata": {
        "id": "hWmJXRKLvH_P"
      },
      "execution_count": null,
      "outputs": []
    },
    {
      "cell_type": "code",
      "source": [
        "#Wyświetl macierz H. Czy widoczna jest taka liczba maksimów jakiej się spodziewamy?\n",
        "plt.imshow(h,'gray')"
      ],
      "metadata": {
        "id": "yvmkGU5SvQJY"
      },
      "execution_count": null,
      "outputs": []
    },
    {
      "cell_type": "markdown",
      "metadata": {
        "id": "mBUa5CfQOq07"
      },
      "source": [
        " 5. W module skimage.transform dostępna jest funkcja do automatycznej analizy przestrzeni Hougha - wyszukiwania maksimów - *hough\\_line\\_peaks*. Jako parametry przyjmuje ona wyniki funkcji *hough\\_line* (macierz H, theta i rho). Dodatkowo można podać próg powyżej którego punkt uznawany jest za maksimum (_threshold_ - domyslnie jest to połowa maksimum w przestrzeni H) oraz liczbę poszukiwanych maksimów (*num_peaks*). Funkcja zwraca współrzędne maksimów. Wykorzystaj funkcję *hough\\_line\\_peaks* do znalezienia maksimów odpowiadających krawędziom kwadratów.\n",
        " 6. Wyświetl macierz H używając konstrukcji:"
      ]
    },
    {
      "cell_type": "code",
      "source": [
        "#5\n",
        "#H,p,O = hough_line(dst)\n",
        "bestH, bestTheta, bestD = hough_line_peaks(h,p,O)\n",
        "H = h"
      ],
      "metadata": {
        "id": "rXdZgfhnuSkS"
      },
      "execution_count": null,
      "outputs": []
    },
    {
      "cell_type": "code",
      "execution_count": null,
      "metadata": {
        "id": "mohQ0UP8Oq08"
      },
      "outputs": [],
      "source": [
        "fig,ax = plt.subplots(1)\n",
        "ax.set_aspect('equal')\n",
        "\n",
        "ax.imshow(H, 'gray') # gdzie H jest przestrzenią Hougha"
      ]
    },
    {
      "cell_type": "markdown",
      "metadata": {
        "id": "J20SEWgMOq08"
      },
      "source": [
        "Taki zapis pozwoli na dołożenie annotacji (okręgów) w miejscach znalezionych maksimów. Wyrysowanie okręgu w punkcie x, y (o rozmiarze 10, w czerwonym kolorze, bez wypełnienia środka) realizuje wywołanie: \n",
        "\n",
        "**circle = plt.Circle((x, y), 10, color='r', fill=False)**\n",
        "\n",
        "natomiast dołożenie takiego okręgu do obrazu to:\n",
        "\n",
        "**ax.add_patch(circle)**\n",
        "\n",
        "Zaznacz maksima na obrazie wykorzystując rezultat funkcji *hough\\_line\\_peaks* biorąc pod uwagę, że zwraca ona kąty w radianach z przedziału od -pi/2 do pi/2, a rho z przedziału od -r/2 do r/2 gdzie r to pionowy rozmiar przestrzeni Hougha. "
      ]
    },
    {
      "cell_type": "code",
      "source": [
        "#angle = bestTheta * (180/np.pi)"
      ],
      "metadata": {
        "id": "aw8c2yLNwBI4"
      },
      "execution_count": null,
      "outputs": []
    },
    {
      "cell_type": "code",
      "execution_count": null,
      "metadata": {
        "id": "1_AYKJTtOq09"
      },
      "outputs": [],
      "source": [
        "import math\n",
        "fig,ax = plt.subplots(1)\n",
        "fig.set_size_inches(20,10)\n",
        "ax.set_aspect('equal')\n",
        "\n",
        "for _, a, d in zip(*hough_line_peaks(h, p, O)):\n",
        "    x = math.degrees(a+np.pi/2)\n",
        "    y = d+360\n",
        "    circle = plt.Circle((x,y ), 10, color='r', fill=False)\n",
        "    ax.add_patch(circle)\n",
        "#for i in range(len(bestTheta)):\n",
        "  #x = np.abs(bestD[i] * np.cos(bestTheta[i]))\n",
        "  #y = np.abs(bestD[i] * np.sin(bestTheta[i]))\n",
        "  #x = ((bestD[1][i] + np.pi/2)/np.pi)*kwadraty.shape[1]\n",
        "  #y = bestD[2][i] + kwadraty.shape[0]/2\n",
        "  #circle = plt.Circle((x,y), 10, color='r', fill=False)\n",
        "  #ax.add_patch(circle)\n",
        "\n",
        "ax.imshow(H, 'gray') # gdzie H jest przestrzenią Hougha"
      ]
    },
    {
      "cell_type": "markdown",
      "metadata": {
        "id": "5awN1yLIOq09"
      },
      "source": [
        "7. Istnieje też możliwość przeprowadzenia transformacji Hougha z użyciem biblioteki OpenCV. W bibliotece znajdują się dwie wersje funkcji wyszukującej linie proste - 'klasyczna' - _HoughLines_ oraz probabilistyczna _HoughLinesP_. Zadna z nich nie zwraca przestrzeni Hougha. Wynikiem działania pierwszej jest lista parametrów prostych (krotki zawierające rho, theta). Druga zwraca krotki 4-ro elementowe ze współrzędnymi końców odcinków wykorzystanych do wylicznia parametrów (czyli znalezienia prostej). \n",
        "8. Wyznacz linie obecne na obrazie za pomocą funkcji _HoughLines_. Wykryte linie wyrysuj na obrazie początkowym (UWAGA: wczytanym bez konwersji na graylevel). Do wyświetlania linii wykorzystaj przykładowy kod:"
      ]
    },
    {
      "cell_type": "code",
      "source": [
        "kwadraty = cv2.imread(\"kwadraty.png\")\n",
        "edges = cv2.Canny(kwadraty, 50, 150, apertureSize=3)\n",
        "lines = cv2.HoughLines(edges, 1, np.pi/180, 55)"
      ],
      "metadata": {
        "id": "53Y6SH-CJhI3"
      },
      "execution_count": null,
      "outputs": []
    },
    {
      "cell_type": "code",
      "execution_count": null,
      "metadata": {
        "id": "wUVjveKZOq0-"
      },
      "outputs": [],
      "source": [
        "for i in range(len(lines)):\n",
        "  rho = lines[i][0][0]\n",
        "  theta = lines[i][0][1]\n",
        "  a = np.cos(theta)\n",
        "  b = np.sin(theta)\n",
        "  x0 = a*rho\n",
        "  y0 = b*rho\n",
        "  x1 = int(x0 + 1000*(-b))\n",
        "  y1 = int(y0 + 1000*(a))\n",
        "  x2 = int(x0 - 1000*(-b))\n",
        "  y2 = int(y0 - 1000*(a))  \n",
        "  res = cv2.line(kwadraty, (x1, y1), (x2, y2), (0, 0, 255), 2)"
      ]
    },
    {
      "cell_type": "code",
      "execution_count": null,
      "metadata": {
        "id": "hUu5FpFaOq0-"
      },
      "outputs": [],
      "source": [
        "plt.imshow(res)"
      ]
    },
    {
      "cell_type": "markdown",
      "metadata": {
        "id": "-szM7M6KOq0-"
      },
      "source": [
        "9. Wyznacz odcinki obecne na obrazie za pomocą funkcji _HoughLinesP_. Wykryte odcinki wyrysuj na obrazie początkowym (UWAGA: wczytanym bez konwersji na graylevel). "
      ]
    },
    {
      "cell_type": "code",
      "execution_count": null,
      "metadata": {
        "id": "QsFUk7J_Oq0_"
      },
      "outputs": [],
      "source": [
        "kwadraty = cv2.imread(\"kwadraty.png\")\n",
        "lines = cv2.HoughLinesP(edges, 1, np.pi/180, 10)\n",
        "\n",
        "for i in range(len(lines)):\n",
        "    l = lines[i][0]\n",
        "    res = cv2.line(kwadraty, (l[0], l[1]), (l[2], l[3]), (0,0,255), 2)\n",
        "\n",
        "plt.imshow(res)"
      ]
    },
    {
      "cell_type": "markdown",
      "metadata": {
        "id": "Jvt7TyYQOq0_"
      },
      "source": [
        "### Transformata Hougha dla obrazu rzeczywistego.\n",
        "\n",
        "Bazując na kodzie stworzonym w punkcie B wyszukamy linie na obrazie rzeczywistym.\n",
        "   1. Wczytaj obraz \"lab112.png\". Wyświetl go.\n",
        "   2. Wykorzystując wszystkie poznane techniki przetwarzania obrazów (filtracja, przekształcenia morfologiczne, binaryzację, detekcję krawędzi) wyodrębnij krawędzie samych kwadratów - tak aby były jak najlepszej jakości (cienkie) - jednocześnie eliminując z obrazu zakłócenia.\n",
        "   3. Wykorzystaj funkcje *hough_line* i *hough_line_peaks* do detekcji linii na obrazie, a następnie np. wykorzystując kod z punktu 8 poprzedniego ustępu wyrysuj na oryginalnym obrazie znalezione linie."
      ]
    },
    {
      "cell_type": "code",
      "execution_count": null,
      "metadata": {
        "id": "iaJDJQUQOq0_"
      },
      "outputs": [],
      "source": [
        "lab = cv2.imread(\"lab112.png\")\n",
        "plt.imshow(lab)"
      ]
    },
    {
      "cell_type": "code",
      "source": [
        "el = np.ones((3,3))\n",
        "lab_blur = cv2.GaussianBlur(lab, (9,9), 9)\n",
        "lab = cv2.dilate(lab_blur,el)\n",
        "dst = cv2.Canny(lab,100,200,None,3,1)\n",
        "\n",
        "plt.imshow(dst,'gray')\n",
        "\n",
        "_,thr = cv2.threshold(lab,40,255,cv2.THRESH_BINARY)\n",
        "edges = cv2.Canny(thr, 50, 150,  None, 3, 1)\n",
        "plt.imshow(edges, 'gray')"
      ],
      "metadata": {
        "id": "go6C7AowNg19"
      },
      "execution_count": null,
      "outputs": []
    },
    {
      "cell_type": "code",
      "source": [
        "lab = cv2.imread(\"lab112.png\")\n",
        "lines = cv2.HoughLines(edges, 1, np.pi/180, 75)\n",
        "for i in range(len(lines)):\n",
        "    rho = lines[i][0][0]\n",
        "    theta = lines[i][0][1]\n",
        "    a = np.cos(theta)\n",
        "    b = np.sin(theta)\n",
        "    x0 = a*rho\n",
        "    y0 = b*rho\n",
        "    x1 = int(x0 + 1000*(-b))\n",
        "    y1 = int(y0 + 1000*(a))\n",
        "    x2 = int(x0 - 1000*(-b))\n",
        "    y2 = int(y0 - 1000*(a))  \n",
        "    res = cv2.line(lab, (x1, y1), (x2, y2), (0, 0, 255), 1)\n",
        "\n",
        "plt.imshow(res)"
      ],
      "metadata": {
        "id": "x2hGfVqFPZ0j"
      },
      "execution_count": null,
      "outputs": []
    },
    {
      "cell_type": "markdown",
      "metadata": {
        "id": "Xuwcupt9Oq1A"
      },
      "source": [
        "4. Wczytaj obraz \"dom.png\". Wypróbuj działanie transformacji Hougha na tym obrazie z wykorzystaniem funkcji _cv2.HoughLinesP_  (oczywiście po odpowiednich przekształceniach). Postaraj się tak przygotować obraz z krawędziami i dobrać parametry aby wyrysować na oryginalnym obrazie odcinki obejmujące zarysy domu. Weź pod uwage dodatkowe parametry funkcji, takie jak:   minLineLength, maxLineGap."
      ]
    },
    {
      "cell_type": "code",
      "execution_count": null,
      "metadata": {
        "id": "lzuBkoS_Oq1B"
      },
      "outputs": [],
      "source": [
        "dom = cv2.imread('dom.png')\n",
        "plt.imshow(dom)"
      ]
    },
    {
      "cell_type": "code",
      "source": [
        "el = cv2.getStructuringElement(cv2.MORPH_RECT, (11, 11))\n",
        "erode = cv2.erode(dom, el)\n",
        "_,thr = cv2.threshold(erode,220,255,cv2.THRESH_BINARY)\n",
        "plt.imshow(thr)"
      ],
      "metadata": {
        "id": "gG_stCsKT5rC"
      },
      "execution_count": null,
      "outputs": []
    },
    {
      "cell_type": "code",
      "source": [
        "dom = cv2.imread('dom.png')\n",
        "edges = cv2.Canny(thr, 50, 150,  None, 3, 1)\n",
        "lines = cv2.HoughLinesP(edges, 1, np.pi / 180, 1,\tminLineLength = 0.1 ,maxLineGap = 0.1 )\n",
        "\n",
        "for i in range(len(lines)):\n",
        "    l = lines[i][0]\n",
        "    res = cv2.line(dom, (l[0], l[1]), (l[2], l[3]), (0,0,255), 2)\n",
        "\n",
        "plt.imshow(res)"
      ],
      "metadata": {
        "id": "WvAUAalxUXM2"
      },
      "execution_count": null,
      "outputs": []
    }
  ],
  "metadata": {
    "celltoolbar": "Raw Cell Format",
    "kernelspec": {
      "display_name": "Python 3",
      "language": "python",
      "name": "python3"
    },
    "language_info": {
      "codemirror_mode": {
        "name": "ipython",
        "version": 3
      },
      "file_extension": ".py",
      "mimetype": "text/x-python",
      "name": "python",
      "nbconvert_exporter": "python",
      "pygments_lexer": "ipython3",
      "version": "3.7.9"
    },
    "colab": {
      "provenance": []
    }
  },
  "nbformat": 4,
  "nbformat_minor": 0
}